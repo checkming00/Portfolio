{
 "cells": [
  {
   "cell_type": "code",
   "execution_count": 1,
   "id": "9a5b2a10",
   "metadata": {},
   "outputs": [
    {
     "name": "stderr",
     "output_type": "stream",
     "text": [
      "\n",
      "The dash_html_components package is deprecated. Please replace\n",
      "`import dash_html_components as html` with `from dash import html`\n",
      "\n",
      "The dash_core_components package is deprecated. Please replace\n",
      "`import dash_core_components as dcc` with `from dash import dcc`\n",
      "\n",
      "The dash_table package is deprecated. Please replace\n",
      "`import dash_table` with `from dash import dash_table`\n",
      "\n",
      "Also, if you're using any of the table format helpers (e.g. Group), replace \n",
      "`from dash_table.Format import Group` with \n",
      "`from dash.dash_table.Format import Group`\n"
     ]
    }
   ],
   "source": [
    "import pandas as pd\n",
    "import numpy as np\n",
    "from sklearn.tree import DecisionTreeClassifier\n",
    "from sklearn.naive_bayes import GaussianNB\n",
    "from sklearn.metrics import confusion_matrix, accuracy_score,recall_score,precision_score\n",
    "from explainerdashboard import ClassifierExplainer, ExplainerDashboard"
   ]
  },
  {
   "cell_type": "code",
   "execution_count": 2,
   "id": "58b5dd1d",
   "metadata": {},
   "outputs": [],
   "source": [
    "feature_descriptions={'State':'Customer’s state',\n",
    "'Account Length':'Integer number showing the duration of activity for customer account',\n",
    "'Area Code':'Area code of customer',\n",
    "'Phone':'Phone number of customer',\n",
    "\"Int'l Plan\":'Binary indicator showing whether the customer has international calling plan',\n",
    "'VMail Plan':'Indicator of voice mail plan',\n",
    "'VMail Message':'The number of voicemail messages',\n",
    "'Day Mins':'The number of minutes the customer used the service during day time',\n",
    "'Day Calls':'Discrete attribute indicating the total number of calls during day time',\n",
    "'Day Charge':'Charges for using the service during day time',\n",
    "'Eve Mins':'The number of minutes the customer used the service during evening time',\n",
    "'Eve Calls':' The number of calls during evening time',\n",
    "'Eve Charge':' Charges for using the service during evening time',\n",
    "'Night Mins':' Number of minutes the customer used the service during night time',\n",
    "'Night Calls':'The number of calls during night time',\n",
    "'Night Charge':'Charges for using the service during night time',\n",
    "'Intl Mins':'Number of minutes the customer used the service to make international calls',\n",
    "'Intl Calls':'The number of international calls',\n",
    "'Intl Charge':'Charges for international calls',\n",
    "'CustServ Calls':'The number of calls to customer support service'\n",
    "}"
   ]
  },
  {
   "cell_type": "markdown",
   "id": "c333fe9b",
   "metadata": {},
   "source": [
    "# Import dataset"
   ]
  },
  {
   "cell_type": "code",
   "execution_count": 3,
   "id": "0f7e196c",
   "metadata": {},
   "outputs": [],
   "source": [
    "df=pd.read_csv('churn.csv')"
   ]
  },
  {
   "cell_type": "markdown",
   "id": "b1fb2394",
   "metadata": {},
   "source": [
    "# Data Transformation"
   ]
  },
  {
   "cell_type": "markdown",
   "id": "7225a630",
   "metadata": {},
   "source": [
    "### Transform phone and binary attributes"
   ]
  },
  {
   "cell_type": "code",
   "execution_count": 4,
   "id": "2452d74d",
   "metadata": {},
   "outputs": [],
   "source": [
    "df['Phone_Number']='('+df['Area Code'].astype('str')+')'+df['Phone']\n",
    "df[\"Int'l Plan\"]=df[\"Int'l Plan\"].apply(lambda i:0 if i==\"no\" else 1)\n",
    "df['VMail Plan']=df['VMail Plan'].apply(lambda i:0 if i==\"no\" else 1)\n",
    "df['Churn?']=df['Churn?'].apply(lambda c:0 if c==\"False.\" else 1)"
   ]
  },
  {
   "cell_type": "code",
   "execution_count": 5,
   "id": "cd9f7ca4",
   "metadata": {},
   "outputs": [],
   "source": [
    "df.index=df['Phone_Number']"
   ]
  },
  {
   "cell_type": "code",
   "execution_count": 6,
   "id": "eb88fda2",
   "metadata": {},
   "outputs": [],
   "source": [
    "df=df.drop(columns=['Area Code','Phone','Phone_Number'])"
   ]
  },
  {
   "cell_type": "markdown",
   "id": "d2b862ec",
   "metadata": {},
   "source": [
    "### Divide into attributes and class"
   ]
  },
  {
   "cell_type": "code",
   "execution_count": 7,
   "id": "c3f6157f",
   "metadata": {},
   "outputs": [],
   "source": [
    "X=df.iloc[:,:-1]\n",
    "y=df.iloc[:,-1]"
   ]
  },
  {
   "cell_type": "markdown",
   "id": "39a9ed57",
   "metadata": {},
   "source": [
    "### Encoding State column"
   ]
  },
  {
   "cell_type": "code",
   "execution_count": 8,
   "id": "286eda3b",
   "metadata": {},
   "outputs": [],
   "source": [
    "X=pd.get_dummies(X,columns=['State'])"
   ]
  },
  {
   "cell_type": "markdown",
   "id": "1aea0597",
   "metadata": {},
   "source": [
    "### Splitting the dataset into the Training set and Test set"
   ]
  },
  {
   "cell_type": "code",
   "execution_count": 9,
   "id": "f7029979",
   "metadata": {},
   "outputs": [],
   "source": [
    "from sklearn.model_selection import train_test_split\n",
    "X_train, X_test, y_train, y_test = train_test_split(X, y, test_size = 0.25, random_state = 0)"
   ]
  },
  {
   "cell_type": "code",
   "execution_count": 10,
   "id": "fb578b1a",
   "metadata": {},
   "outputs": [],
   "source": [
    "phone_numbers=X_test.index.tolist()"
   ]
  },
  {
   "cell_type": "markdown",
   "id": "2cf84143",
   "metadata": {},
   "source": [
    "# Building model using Decision Tree"
   ]
  },
  {
   "cell_type": "markdown",
   "id": "e4c9220d",
   "metadata": {},
   "source": [
    "### Training the Decision Tree Classification model on the Training set"
   ]
  },
  {
   "cell_type": "code",
   "execution_count": 11,
   "id": "83b1cfb7",
   "metadata": {},
   "outputs": [],
   "source": [
    "def decision_tree_class():\n",
    "    classifier = DecisionTreeClassifier(criterion = 'entropy', random_state = 0)\n",
    "    classifier.fit(X_train, y_train)\n",
    "    return classifier"
   ]
  },
  {
   "cell_type": "code",
   "execution_count": 12,
   "id": "d0a6bda5",
   "metadata": {},
   "outputs": [],
   "source": [
    "dt_class=decision_tree_class()"
   ]
  },
  {
   "cell_type": "code",
   "execution_count": 13,
   "id": "9e8ac096",
   "metadata": {},
   "outputs": [
    {
     "name": "stdout",
     "output_type": "stream",
     "text": [
      "Note: model_output=='probability', so assuming that raw shap output of DecisionTreeClassifier is in probability space...\n",
      "Generating self.shap_explainer = shap.TreeExplainer(model)\n",
      "Building ExplainerDashboard..\n",
      "Detected notebook environment, consider setting mode='external', mode='inline' or mode='jupyterlab' to keep the notebook interactive while the dashboard is running...\n",
      "The explainer object has no decision_trees property. so setting decision_trees=False...\n",
      "Generating layout...\n",
      "Calculating shap values...\n",
      "Calculating prediction probabilities...\n",
      "Calculating metrics...\n",
      "Calculating confusion matrices...\n",
      "Calculating classification_dfs...\n",
      "Calculating roc auc curves...\n",
      "Calculating pr auc curves...\n",
      "Calculating liftcurve_dfs...\n",
      "Calculating dependencies...\n",
      "Calculating permutation importances (if slow, try setting n_jobs parameter)...\n",
      "Calculating predictions...\n",
      "Calculating pred_percentiles...\n",
      "Reminder: you can store the explainer (including calculated dependencies) with explainer.dump('explainer.joblib') and reload with e.g. ClassifierExplainer.from_file('explainer.joblib')\n",
      "Registering callbacks...\n",
      "Starting ExplainerDashboard on http://192.168.2.227:8050\n",
      "Dash is running on http://0.0.0.0:8050/\n",
      "\n",
      " * Serving Flask app \"explainerdashboard.dashboards\" (lazy loading)\n",
      " * Environment: production\n",
      "\u001b[31m   WARNING: This is a development server. Do not use it in a production deployment.\u001b[0m\n",
      "\u001b[2m   Use a production WSGI server instead.\u001b[0m\n",
      " * Debug mode: off\n"
     ]
    },
    {
     "name": "stderr",
     "output_type": "stream",
     "text": [
      " * Running on http://0.0.0.0:8050/ (Press CTRL+C to quit)\n",
      "192.168.2.227 - - [13/Nov/2021 09:03:45] \"\u001b[37mGET / HTTP/1.1\u001b[0m\" 200 -\n",
      "192.168.2.227 - - [13/Nov/2021 09:03:45] \"\u001b[37mGET /_dash-dependencies HTTP/1.1\u001b[0m\" 200 -\n",
      "192.168.2.227 - - [13/Nov/2021 09:03:45] \"\u001b[37mGET /_dash-layout HTTP/1.1\u001b[0m\" 200 -\n",
      "192.168.2.227 - - [13/Nov/2021 09:03:45] \"\u001b[37mGET /_dash-component-suites/dash/dcc/async-dropdown.js HTTP/1.1\u001b[0m\" 200 -\n",
      "192.168.2.227 - - [13/Nov/2021 09:03:45] \"\u001b[37mGET /_dash-component-suites/dash/dcc/async-graph.js HTTP/1.1\u001b[0m\" 200 -\n",
      "192.168.2.227 - - [13/Nov/2021 09:03:45] \"\u001b[37mGET /_dash-component-suites/dash/dcc/async-plotlyjs.js HTTP/1.1\u001b[0m\" 200 -\n",
      "192.168.2.227 - - [13/Nov/2021 09:03:46] \"\u001b[37mPOST /_dash-update-component HTTP/1.1\u001b[0m\" 200 -\n",
      "192.168.2.227 - - [13/Nov/2021 09:03:46] \"\u001b[37mPOST /_dash-update-component HTTP/1.1\u001b[0m\" 200 -\n",
      "192.168.2.227 - - [13/Nov/2021 09:03:46] \"\u001b[37mPOST /_dash-update-component HTTP/1.1\u001b[0m\" 200 -\n",
      "192.168.2.227 - - [13/Nov/2021 09:03:46] \"\u001b[37mPOST /_dash-update-component HTTP/1.1\u001b[0m\" 204 -\n",
      "192.168.2.227 - - [13/Nov/2021 09:03:46] \"\u001b[37mPOST /_dash-update-component HTTP/1.1\u001b[0m\" 200 -\n",
      "192.168.2.227 - - [13/Nov/2021 09:03:46] \"\u001b[37mPOST /_dash-update-component HTTP/1.1\u001b[0m\" 200 -\n",
      "192.168.2.227 - - [13/Nov/2021 09:03:46] \"\u001b[37mPOST /_dash-update-component HTTP/1.1\u001b[0m\" 200 -\n",
      "192.168.2.227 - - [13/Nov/2021 09:03:46] \"\u001b[37mPOST /_dash-update-component HTTP/1.1\u001b[0m\" 200 -\n",
      "192.168.2.227 - - [13/Nov/2021 09:03:46] \"\u001b[37mPOST /_dash-update-component HTTP/1.1\u001b[0m\" 200 -\n",
      "192.168.2.227 - - [13/Nov/2021 09:03:46] \"\u001b[37mPOST /_dash-update-component HTTP/1.1\u001b[0m\" 200 -\n",
      "192.168.2.227 - - [13/Nov/2021 09:03:46] \"\u001b[37mPOST /_dash-update-component HTTP/1.1\u001b[0m\" 200 -\n",
      "192.168.2.227 - - [13/Nov/2021 09:03:46] \"\u001b[37mPOST /_dash-update-component HTTP/1.1\u001b[0m\" 200 -\n",
      "192.168.2.227 - - [13/Nov/2021 09:03:46] \"\u001b[37mPOST /_dash-update-component HTTP/1.1\u001b[0m\" 200 -\n",
      "192.168.2.227 - - [13/Nov/2021 09:03:46] \"\u001b[37mPOST /_dash-update-component HTTP/1.1\u001b[0m\" 200 -\n",
      "192.168.2.227 - - [13/Nov/2021 09:03:46] \"\u001b[37mPOST /_dash-update-component HTTP/1.1\u001b[0m\" 200 -\n",
      "192.168.2.227 - - [13/Nov/2021 09:03:46] \"\u001b[37mPOST /_dash-update-component HTTP/1.1\u001b[0m\" 200 -\n",
      "192.168.2.227 - - [13/Nov/2021 09:03:46] \"\u001b[37mPOST /_dash-update-component HTTP/1.1\u001b[0m\" 200 -\n",
      "192.168.2.227 - - [13/Nov/2021 09:03:46] \"\u001b[37mPOST /_dash-update-component HTTP/1.1\u001b[0m\" 200 -\n",
      "192.168.2.227 - - [13/Nov/2021 09:03:46] \"\u001b[37mPOST /_dash-update-component HTTP/1.1\u001b[0m\" 200 -\n",
      "192.168.2.227 - - [13/Nov/2021 09:03:46] \"\u001b[37mPOST /_dash-update-component HTTP/1.1\u001b[0m\" 200 -\n",
      "192.168.2.227 - - [13/Nov/2021 09:03:46] \"\u001b[37mPOST /_dash-update-component HTTP/1.1\u001b[0m\" 200 -\n",
      "192.168.2.227 - - [13/Nov/2021 09:03:46] \"\u001b[37mPOST /_dash-update-component HTTP/1.1\u001b[0m\" 200 -\n",
      "192.168.2.227 - - [13/Nov/2021 09:03:46] \"\u001b[37mPOST /_dash-update-component HTTP/1.1\u001b[0m\" 204 -\n",
      "192.168.2.227 - - [13/Nov/2021 09:03:46] \"\u001b[37mPOST /_dash-update-component HTTP/1.1\u001b[0m\" 200 -\n",
      "192.168.2.227 - - [13/Nov/2021 09:03:46] \"\u001b[37mPOST /_dash-update-component HTTP/1.1\u001b[0m\" 200 -\n",
      "192.168.2.227 - - [13/Nov/2021 09:03:46] \"\u001b[37mPOST /_dash-update-component HTTP/1.1\u001b[0m\" 200 -\n",
      "192.168.2.227 - - [13/Nov/2021 09:03:46] \"\u001b[37mPOST /_dash-update-component HTTP/1.1\u001b[0m\" 200 -\n",
      "192.168.2.227 - - [13/Nov/2021 09:03:46] \"\u001b[37mPOST /_dash-update-component HTTP/1.1\u001b[0m\" 200 -\n",
      "192.168.2.227 - - [13/Nov/2021 09:03:46] \"\u001b[37mPOST /_dash-update-component HTTP/1.1\u001b[0m\" 200 -\n",
      "192.168.2.227 - - [13/Nov/2021 09:03:46] \"\u001b[37mPOST /_dash-update-component HTTP/1.1\u001b[0m\" 200 -\n",
      "192.168.2.227 - - [13/Nov/2021 09:03:46] \"\u001b[37mPOST /_dash-update-component HTTP/1.1\u001b[0m\" 200 -\n",
      "192.168.2.227 - - [13/Nov/2021 09:03:46] \"\u001b[37mPOST /_dash-update-component HTTP/1.1\u001b[0m\" 200 -\n",
      "192.168.2.227 - - [13/Nov/2021 09:03:46] \"\u001b[37mPOST /_dash-update-component HTTP/1.1\u001b[0m\" 200 -\n",
      "192.168.2.227 - - [13/Nov/2021 09:03:46] \"\u001b[37mPOST /_dash-update-component HTTP/1.1\u001b[0m\" 200 -\n",
      "192.168.2.227 - - [13/Nov/2021 09:03:46] \"\u001b[37mPOST /_dash-update-component HTTP/1.1\u001b[0m\" 204 -\n",
      "192.168.2.227 - - [13/Nov/2021 09:03:47] \"\u001b[37mPOST /_dash-update-component HTTP/1.1\u001b[0m\" 200 -\n",
      "192.168.2.227 - - [13/Nov/2021 09:03:47] \"\u001b[37mPOST /_dash-update-component HTTP/1.1\u001b[0m\" 200 -\n",
      "192.168.2.227 - - [13/Nov/2021 09:03:47] \"\u001b[37mPOST /_dash-update-component HTTP/1.1\u001b[0m\" 200 -\n",
      "192.168.2.227 - - [13/Nov/2021 09:03:47] \"\u001b[37mPOST /_dash-update-component HTTP/1.1\u001b[0m\" 204 -\n",
      "192.168.2.227 - - [13/Nov/2021 09:03:47] \"\u001b[37mPOST /_dash-update-component HTTP/1.1\u001b[0m\" 200 -\n",
      "192.168.2.227 - - [13/Nov/2021 09:03:48] \"\u001b[37mPOST /_dash-update-component HTTP/1.1\u001b[0m\" 200 -\n",
      "192.168.2.227 - - [13/Nov/2021 09:03:48] \"\u001b[37mPOST /_dash-update-component HTTP/1.1\u001b[0m\" 200 -\n",
      "192.168.2.227 - - [13/Nov/2021 09:03:48] \"\u001b[37mPOST /_dash-update-component HTTP/1.1\u001b[0m\" 200 -\n",
      "192.168.2.227 - - [13/Nov/2021 09:03:48] \"\u001b[37mPOST /_dash-update-component HTTP/1.1\u001b[0m\" 200 -\n",
      "192.168.2.227 - - [13/Nov/2021 09:03:48] \"\u001b[37mPOST /_dash-update-component HTTP/1.1\u001b[0m\" 200 -\n",
      "192.168.2.227 - - [13/Nov/2021 09:03:48] \"\u001b[37mPOST /_dash-update-component HTTP/1.1\u001b[0m\" 200 -\n",
      "192.168.2.227 - - [13/Nov/2021 09:03:48] \"\u001b[37mPOST /_dash-update-component HTTP/1.1\u001b[0m\" 200 -\n",
      "192.168.2.227 - - [13/Nov/2021 09:03:49] \"\u001b[37mPOST /_dash-update-component HTTP/1.1\u001b[0m\" 200 -\n",
      "192.168.2.227 - - [13/Nov/2021 09:03:49] \"\u001b[37mPOST /_dash-update-component HTTP/1.1\u001b[0m\" 200 -\n",
      "192.168.2.227 - - [13/Nov/2021 09:03:49] \"\u001b[37mPOST /_dash-update-component HTTP/1.1\u001b[0m\" 200 -\n",
      "192.168.2.227 - - [13/Nov/2021 09:03:49] \"\u001b[37mPOST /_dash-update-component HTTP/1.1\u001b[0m\" 200 -\n",
      "192.168.2.227 - - [13/Nov/2021 09:03:49] \"\u001b[37mPOST /_dash-update-component HTTP/1.1\u001b[0m\" 200 -\n",
      "192.168.2.227 - - [13/Nov/2021 09:03:49] \"\u001b[37mPOST /_dash-update-component HTTP/1.1\u001b[0m\" 200 -\n",
      "192.168.2.227 - - [13/Nov/2021 09:03:49] \"\u001b[37mPOST /_dash-update-component HTTP/1.1\u001b[0m\" 200 -\n",
      "192.168.2.227 - - [13/Nov/2021 09:03:49] \"\u001b[37mPOST /_dash-update-component HTTP/1.1\u001b[0m\" 200 -\n",
      "192.168.2.227 - - [13/Nov/2021 09:03:49] \"\u001b[37mPOST /_dash-update-component HTTP/1.1\u001b[0m\" 200 -\n",
      "192.168.2.227 - - [13/Nov/2021 09:03:49] \"\u001b[37mPOST /_dash-update-component HTTP/1.1\u001b[0m\" 200 -\n",
      "192.168.2.227 - - [13/Nov/2021 09:03:49] \"\u001b[37mPOST /_dash-update-component HTTP/1.1\u001b[0m\" 200 -\n",
      "192.168.2.227 - - [13/Nov/2021 09:03:50] \"\u001b[37mPOST /_dash-update-component HTTP/1.1\u001b[0m\" 200 -\n",
      "192.168.2.227 - - [13/Nov/2021 09:03:50] \"\u001b[37mPOST /_dash-update-component HTTP/1.1\u001b[0m\" 200 -\n",
      "192.168.2.227 - - [13/Nov/2021 09:03:50] \"\u001b[37mPOST /_dash-update-component HTTP/1.1\u001b[0m\" 200 -\n",
      "192.168.2.227 - - [13/Nov/2021 09:03:50] \"\u001b[37mPOST /_dash-update-component HTTP/1.1\u001b[0m\" 200 -\n",
      "192.168.2.227 - - [13/Nov/2021 09:03:50] \"\u001b[37mPOST /_dash-update-component HTTP/1.1\u001b[0m\" 200 -\n",
      "192.168.2.227 - - [13/Nov/2021 09:03:50] \"\u001b[37mPOST /_dash-update-component HTTP/1.1\u001b[0m\" 200 -\n",
      "192.168.2.227 - - [13/Nov/2021 09:03:50] \"\u001b[37mPOST /_dash-update-component HTTP/1.1\u001b[0m\" 200 -\n",
      "192.168.2.227 - - [13/Nov/2021 09:04:19] \"\u001b[37mGET /_dash-component-suites/dash/dcc/async-slider.js HTTP/1.1\u001b[0m\" 200 -\n",
      "192.168.2.227 - - [13/Nov/2021 09:04:36] \"\u001b[37mPOST /_dash-update-component HTTP/1.1\u001b[0m\" 200 -\n"
     ]
    }
   ],
   "source": [
    "explainer_dt_all = ClassifierExplainer(dt_class, X_test, y_test, \n",
    "                                descriptions=feature_descriptions,\n",
    "                                labels=['Not Churn', 'Churn'], \n",
    "                                cats=['State'],\n",
    "                                idxs = phone_numbers, \n",
    "                                index_name = \"Phone Number\", \n",
    "                                target = \"Churn\", \n",
    "                                )\n",
    "db_dt_all=ExplainerDashboard(explainer_dt_all, \n",
    "                        title=\"Churn Prediction by Decision Tree\", \n",
    "                        shap_interaction=False,\n",
    "                        )\n",
    "db_dt_all.run(port=8050)"
   ]
  },
  {
   "cell_type": "markdown",
   "id": "0a39fc1a",
   "metadata": {},
   "source": [
    "### Making the Confusion Matrix for Decision Tree"
   ]
  },
  {
   "cell_type": "code",
   "execution_count": 14,
   "id": "2d6ec72c",
   "metadata": {},
   "outputs": [],
   "source": [
    "def cm_scores(classifier):\n",
    "    y_pred = classifier.predict(X_test)\n",
    "    cm = confusion_matrix(y_test, y_pred)\n",
    "    tn, fp, fn, tp = confusion_matrix(y_test, y_pred).ravel()\n",
    "    print(cm)\n",
    "    print(' ')\n",
    "    print('True Positive is {}; True Negative is {}; False Positive is {}; False Negative is {}.\\n'.format(tp,tn,fp,fn))\n",
    "    accuracy=round(accuracy_score(y_test, y_pred),2)\n",
    "    recall=round(recall_score(y_test,y_pred),2)\n",
    "    precision=round(precision_score(y_test,y_pred),2)\n",
    "    print('Accuracy is {}; recall is {}; precision is {}.'.format(accuracy,recall,precision))"
   ]
  },
  {
   "cell_type": "code",
   "execution_count": 15,
   "id": "775812c5",
   "metadata": {},
   "outputs": [
    {
     "name": "stdout",
     "output_type": "stream",
     "text": [
      "[[672  47]\n",
      " [ 24  91]]\n",
      " \n",
      "True Positive is 91; True Negative is 672; False Positive is 47; False Negative is 24.\n",
      "\n",
      "Accuracy is 0.91; recall is 0.79; precision is 0.66.\n"
     ]
    }
   ],
   "source": [
    "cm_scores(dt_class)"
   ]
  },
  {
   "cell_type": "markdown",
   "id": "983d024e",
   "metadata": {},
   "source": [
    "# Building model using Naive Bayes"
   ]
  },
  {
   "cell_type": "markdown",
   "id": "c60a21d4",
   "metadata": {},
   "source": [
    "### Training the Naive Bayes Classification model on the Training set"
   ]
  },
  {
   "cell_type": "code",
   "execution_count": 16,
   "id": "85f31f5b",
   "metadata": {},
   "outputs": [],
   "source": [
    "def naive_bayes_class():\n",
    "    classifier = GaussianNB()\n",
    "    classifier.fit(X_train, y_train)\n",
    "    return classifier"
   ]
  },
  {
   "cell_type": "code",
   "execution_count": 17,
   "id": "36a017e0",
   "metadata": {},
   "outputs": [],
   "source": [
    "nb_class=naive_bayes_class()"
   ]
  },
  {
   "cell_type": "code",
   "execution_count": 21,
   "id": "57c65f32",
   "metadata": {},
   "outputs": [
    {
     "name": "stdout",
     "output_type": "stream",
     "text": [
      "WARNING: Parameter shap='guess', but failed to guess the type of shap explainer to use for GaussianNB. Defaulting to the model agnostic shap.KernelExplainer (shap='kernel'). However this will be slow, so if your model is compatible with e.g. shap.TreeExplainer or shap.LinearExplainer then pass shap='tree' or shap='linear'!\n",
      "WARNING: For shap='kernel', shap interaction values can unfortunately not be calculated!\n",
      "Note: shap values for shap='kernel' normally get calculated against X_background, but paramater X_background=None, so setting X_background=shap.sample(X, 50)...\n",
      "Generating self.shap_explainer = shap.KernelExplainer(model, X, link='identity')\n",
      "Building ExplainerDashboard..\n",
      "Detected notebook environment, consider setting mode='external', mode='inline' or mode='jupyterlab' to keep the notebook interactive while the dashboard is running...\n",
      "The explainer object has no decision_trees property. so setting decision_trees=False...\n",
      "Generating layout...\n",
      "Calculating shap values...\n"
     ]
    },
    {
     "data": {
      "application/vnd.jupyter.widget-view+json": {
       "model_id": "da64ed6d1cfd4618a449430558686866",
       "version_major": 2,
       "version_minor": 0
      },
      "text/plain": [
       "  0%|          | 0/834 [00:00<?, ?it/s]"
      ]
     },
     "metadata": {},
     "output_type": "display_data"
    },
    {
     "name": "stdout",
     "output_type": "stream",
     "text": [
      "Calculating prediction probabilities...\n",
      "Calculating metrics...\n",
      "Calculating confusion matrices...\n",
      "Calculating classification_dfs...\n",
      "Calculating roc auc curves...\n",
      "Calculating pr auc curves...\n",
      "Calculating liftcurve_dfs...\n",
      "Calculating dependencies...\n",
      "Calculating permutation importances (if slow, try setting n_jobs parameter)...\n",
      "Calculating predictions...\n",
      "Calculating pred_percentiles...\n",
      "Reminder: you can store the explainer (including calculated dependencies) with explainer.dump('explainer.joblib') and reload with e.g. ClassifierExplainer.from_file('explainer.joblib')\n",
      "Registering callbacks...\n",
      "Starting ExplainerDashboard on http://192.168.2.227:8050\n",
      "Dash is running on http://0.0.0.0:8050/\n",
      "\n",
      "Dash is running on http://0.0.0.0:8050/\n",
      "\n",
      "Dash is running on http://0.0.0.0:8050/\n",
      "\n",
      "Dash is running on http://0.0.0.0:8050/\n",
      "\n",
      " * Serving Flask app \"explainerdashboard.dashboards\" (lazy loading)\n",
      " * Environment: production\n",
      "\u001b[31m   WARNING: This is a development server. Do not use it in a production deployment.\u001b[0m\n",
      "\u001b[2m   Use a production WSGI server instead.\u001b[0m\n",
      " * Debug mode: off\n"
     ]
    },
    {
     "name": "stderr",
     "output_type": "stream",
     "text": [
      " * Running on http://0.0.0.0:8050/ (Press CTRL+C to quit)\n",
      "192.168.2.227 - - [13/Nov/2021 09:37:14] \"\u001b[37mGET / HTTP/1.1\u001b[0m\" 200 -\n",
      "192.168.2.227 - - [13/Nov/2021 09:37:14] \"\u001b[37mGET /_dash-dependencies HTTP/1.1\u001b[0m\" 200 -\n",
      "192.168.2.227 - - [13/Nov/2021 09:37:14] \"\u001b[37mGET /_dash-layout HTTP/1.1\u001b[0m\" 200 -\n",
      "192.168.2.227 - - [13/Nov/2021 09:37:14] \"\u001b[37mGET /_dash-component-suites/dash/dcc/async-dropdown.js HTTP/1.1\u001b[0m\" 200 -\n",
      "192.168.2.227 - - [13/Nov/2021 09:37:14] \"\u001b[37mGET /_dash-component-suites/dash/dcc/async-plotlyjs.js HTTP/1.1\u001b[0m\" 200 -\n",
      "192.168.2.227 - - [13/Nov/2021 09:37:14] \"\u001b[37mGET /_dash-component-suites/dash/dcc/async-graph.js HTTP/1.1\u001b[0m\" 200 -\n",
      "192.168.2.227 - - [13/Nov/2021 09:37:15] \"\u001b[37mPOST /_dash-update-component HTTP/1.1\u001b[0m\" 200 -\n",
      "192.168.2.227 - - [13/Nov/2021 09:37:15] \"\u001b[37mPOST /_dash-update-component HTTP/1.1\u001b[0m\" 200 -\n",
      "192.168.2.227 - - [13/Nov/2021 09:37:15] \"\u001b[37mPOST /_dash-update-component HTTP/1.1\u001b[0m\" 204 -\n",
      "192.168.2.227 - - [13/Nov/2021 09:37:15] \"\u001b[37mPOST /_dash-update-component HTTP/1.1\u001b[0m\" 200 -\n",
      "192.168.2.227 - - [13/Nov/2021 09:37:15] \"\u001b[37mPOST /_dash-update-component HTTP/1.1\u001b[0m\" 200 -\n",
      "192.168.2.227 - - [13/Nov/2021 09:37:15] \"\u001b[37mPOST /_dash-update-component HTTP/1.1\u001b[0m\" 200 -\n",
      "192.168.2.227 - - [13/Nov/2021 09:37:15] \"\u001b[37mPOST /_dash-update-component HTTP/1.1\u001b[0m\" 200 -\n",
      "192.168.2.227 - - [13/Nov/2021 09:37:15] \"\u001b[37mPOST /_dash-update-component HTTP/1.1\u001b[0m\" 200 -\n",
      "192.168.2.227 - - [13/Nov/2021 09:37:15] \"\u001b[37mPOST /_dash-update-component HTTP/1.1\u001b[0m\" 200 -\n",
      "192.168.2.227 - - [13/Nov/2021 09:37:15] \"\u001b[37mPOST /_dash-update-component HTTP/1.1\u001b[0m\" 200 -\n",
      "192.168.2.227 - - [13/Nov/2021 09:37:15] \"\u001b[37mPOST /_dash-update-component HTTP/1.1\u001b[0m\" 200 -\n",
      "192.168.2.227 - - [13/Nov/2021 09:37:15] \"\u001b[37mPOST /_dash-update-component HTTP/1.1\u001b[0m\" 200 -\n",
      "192.168.2.227 - - [13/Nov/2021 09:37:15] \"\u001b[37mPOST /_dash-update-component HTTP/1.1\u001b[0m\" 200 -\n",
      "192.168.2.227 - - [13/Nov/2021 09:37:15] \"\u001b[37mPOST /_dash-update-component HTTP/1.1\u001b[0m\" 200 -\n",
      "192.168.2.227 - - [13/Nov/2021 09:37:15] \"\u001b[37mPOST /_dash-update-component HTTP/1.1\u001b[0m\" 200 -\n",
      "192.168.2.227 - - [13/Nov/2021 09:37:15] \"\u001b[37mPOST /_dash-update-component HTTP/1.1\u001b[0m\" 200 -\n",
      "192.168.2.227 - - [13/Nov/2021 09:37:15] \"\u001b[37mPOST /_dash-update-component HTTP/1.1\u001b[0m\" 200 -\n",
      "192.168.2.227 - - [13/Nov/2021 09:37:15] \"\u001b[37mPOST /_dash-update-component HTTP/1.1\u001b[0m\" 200 -\n",
      "192.168.2.227 - - [13/Nov/2021 09:37:15] \"\u001b[37mPOST /_dash-update-component HTTP/1.1\u001b[0m\" 200 -\n",
      "192.168.2.227 - - [13/Nov/2021 09:37:15] \"\u001b[37mPOST /_dash-update-component HTTP/1.1\u001b[0m\" 200 -\n",
      "192.168.2.227 - - [13/Nov/2021 09:37:16] \"\u001b[37mPOST /_dash-update-component HTTP/1.1\u001b[0m\" 200 -\n",
      "192.168.2.227 - - [13/Nov/2021 09:37:16] \"\u001b[37mPOST /_dash-update-component HTTP/1.1\u001b[0m\" 200 -\n",
      "192.168.2.227 - - [13/Nov/2021 09:37:16] \"\u001b[37mPOST /_dash-update-component HTTP/1.1\u001b[0m\" 204 -\n",
      "192.168.2.227 - - [13/Nov/2021 09:37:16] \"\u001b[37mPOST /_dash-update-component HTTP/1.1\u001b[0m\" 200 -\n",
      "192.168.2.227 - - [13/Nov/2021 09:37:16] \"\u001b[37mPOST /_dash-update-component HTTP/1.1\u001b[0m\" 200 -\n",
      "192.168.2.227 - - [13/Nov/2021 09:37:16] \"\u001b[37mPOST /_dash-update-component HTTP/1.1\u001b[0m\" 200 -\n",
      "192.168.2.227 - - [13/Nov/2021 09:37:16] \"\u001b[37mPOST /_dash-update-component HTTP/1.1\u001b[0m\" 200 -\n",
      "192.168.2.227 - - [13/Nov/2021 09:37:16] \"\u001b[37mPOST /_dash-update-component HTTP/1.1\u001b[0m\" 200 -\n",
      "192.168.2.227 - - [13/Nov/2021 09:37:16] \"\u001b[37mPOST /_dash-update-component HTTP/1.1\u001b[0m\" 200 -\n",
      "192.168.2.227 - - [13/Nov/2021 09:37:16] \"\u001b[37mPOST /_dash-update-component HTTP/1.1\u001b[0m\" 200 -\n",
      "192.168.2.227 - - [13/Nov/2021 09:37:16] \"\u001b[37mPOST /_dash-update-component HTTP/1.1\u001b[0m\" 200 -\n",
      "192.168.2.227 - - [13/Nov/2021 09:37:16] \"\u001b[37mPOST /_dash-update-component HTTP/1.1\u001b[0m\" 204 -\n",
      "192.168.2.227 - - [13/Nov/2021 09:37:16] \"\u001b[37mPOST /_dash-update-component HTTP/1.1\u001b[0m\" 200 -\n",
      "192.168.2.227 - - [13/Nov/2021 09:37:16] \"\u001b[37mPOST /_dash-update-component HTTP/1.1\u001b[0m\" 200 -\n",
      "192.168.2.227 - - [13/Nov/2021 09:37:16] \"\u001b[37mPOST /_dash-update-component HTTP/1.1\u001b[0m\" 200 -\n",
      "192.168.2.227 - - [13/Nov/2021 09:37:17] \"\u001b[37mPOST /_dash-update-component HTTP/1.1\u001b[0m\" 200 -\n",
      "192.168.2.227 - - [13/Nov/2021 09:37:17] \"\u001b[37mPOST /_dash-update-component HTTP/1.1\u001b[0m\" 204 -\n",
      "192.168.2.227 - - [13/Nov/2021 09:37:17] \"\u001b[37mPOST /_dash-update-component HTTP/1.1\u001b[0m\" 200 -\n",
      "192.168.2.227 - - [13/Nov/2021 09:37:17] \"\u001b[37mPOST /_dash-update-component HTTP/1.1\u001b[0m\" 200 -\n",
      "192.168.2.227 - - [13/Nov/2021 09:37:17] \"\u001b[37mPOST /_dash-update-component HTTP/1.1\u001b[0m\" 200 -\n",
      "192.168.2.227 - - [13/Nov/2021 09:37:17] \"\u001b[37mPOST /_dash-update-component HTTP/1.1\u001b[0m\" 200 -\n",
      "192.168.2.227 - - [13/Nov/2021 09:37:17] \"\u001b[37mPOST /_dash-update-component HTTP/1.1\u001b[0m\" 200 -\n",
      "192.168.2.227 - - [13/Nov/2021 09:37:17] \"\u001b[37mPOST /_dash-update-component HTTP/1.1\u001b[0m\" 200 -\n",
      "192.168.2.227 - - [13/Nov/2021 09:37:17] \"\u001b[37mPOST /_dash-update-component HTTP/1.1\u001b[0m\" 200 -\n",
      "192.168.2.227 - - [13/Nov/2021 09:37:17] \"\u001b[37mPOST /_dash-update-component HTTP/1.1\u001b[0m\" 200 -\n",
      "192.168.2.227 - - [13/Nov/2021 09:37:17] \"\u001b[37mPOST /_dash-update-component HTTP/1.1\u001b[0m\" 200 -\n",
      "192.168.2.227 - - [13/Nov/2021 09:37:18] \"\u001b[37mPOST /_dash-update-component HTTP/1.1\u001b[0m\" 200 -\n",
      "192.168.2.227 - - [13/Nov/2021 09:37:18] \"\u001b[37mPOST /_dash-update-component HTTP/1.1\u001b[0m\" 200 -\n",
      "192.168.2.227 - - [13/Nov/2021 09:37:18] \"\u001b[37mPOST /_dash-update-component HTTP/1.1\u001b[0m\" 200 -\n",
      "192.168.2.227 - - [13/Nov/2021 09:37:18] \"\u001b[37mPOST /_dash-update-component HTTP/1.1\u001b[0m\" 200 -\n",
      "192.168.2.227 - - [13/Nov/2021 09:37:18] \"\u001b[37mPOST /_dash-update-component HTTP/1.1\u001b[0m\" 200 -\n",
      "192.168.2.227 - - [13/Nov/2021 09:37:18] \"\u001b[37mPOST /_dash-update-component HTTP/1.1\u001b[0m\" 200 -\n",
      "192.168.2.227 - - [13/Nov/2021 09:37:19] \"\u001b[37mPOST /_dash-update-component HTTP/1.1\u001b[0m\" 200 -\n",
      "192.168.2.227 - - [13/Nov/2021 09:37:19] \"\u001b[37mPOST /_dash-update-component HTTP/1.1\u001b[0m\" 200 -\n",
      "192.168.2.227 - - [13/Nov/2021 09:37:19] \"\u001b[37mPOST /_dash-update-component HTTP/1.1\u001b[0m\" 200 -\n",
      "192.168.2.227 - - [13/Nov/2021 09:37:19] \"\u001b[37mPOST /_dash-update-component HTTP/1.1\u001b[0m\" 200 -\n",
      "192.168.2.227 - - [13/Nov/2021 09:37:19] \"\u001b[37mPOST /_dash-update-component HTTP/1.1\u001b[0m\" 200 -\n",
      "192.168.2.227 - - [13/Nov/2021 09:37:19] \"\u001b[37mPOST /_dash-update-component HTTP/1.1\u001b[0m\" 200 -\n",
      "192.168.2.227 - - [13/Nov/2021 09:37:19] \"\u001b[37mPOST /_dash-update-component HTTP/1.1\u001b[0m\" 200 -\n",
      "192.168.2.227 - - [13/Nov/2021 09:37:19] \"\u001b[37mPOST /_dash-update-component HTTP/1.1\u001b[0m\" 200 -\n",
      "192.168.2.227 - - [13/Nov/2021 09:37:19] \"\u001b[37mPOST /_dash-update-component HTTP/1.1\u001b[0m\" 200 -\n",
      "192.168.2.227 - - [13/Nov/2021 09:37:20] \"\u001b[37mPOST /_dash-update-component HTTP/1.1\u001b[0m\" 200 -\n",
      "192.168.2.227 - - [13/Nov/2021 09:37:21] \"\u001b[37mPOST /_dash-update-component HTTP/1.1\u001b[0m\" 200 -\n",
      "192.168.2.227 - - [13/Nov/2021 09:37:22] \"\u001b[37mPOST /_dash-update-component HTTP/1.1\u001b[0m\" 200 -\n",
      "192.168.2.227 - - [13/Nov/2021 09:37:24] \"\u001b[37mPOST /_dash-update-component HTTP/1.1\u001b[0m\" 200 -\n",
      "192.168.2.227 - - [13/Nov/2021 09:37:27] \"\u001b[37mGET /_dash-component-suites/dash/dcc/async-slider.js HTTP/1.1\u001b[0m\" 200 -\n",
      "192.168.2.227 - - [13/Nov/2021 09:38:16] \"\u001b[37mPOST /_dash-update-component HTTP/1.1\u001b[0m\" 200 -\n"
     ]
    }
   ],
   "source": [
    "explainer_nb_all = ClassifierExplainer(nb_class, X_test, y_test, \n",
    "                                descriptions=feature_descriptions,\n",
    "                                labels=['Not Churn', 'Churn'], \n",
    "                                cats=['State'],\n",
    "                                idxs = phone_numbers, \n",
    "                                index_name = \"Phone Number\", \n",
    "                                target = \"Churn\", \n",
    "                                )\n",
    "db_nb_all=ExplainerDashboard(explainer_nb_all, \n",
    "                        title=\"Churn Prediction by Naive Bayes\", \n",
    "                        shap_interaction=False,\n",
    "                        )\n",
    "db_nb_all.run(port=8050)"
   ]
  },
  {
   "cell_type": "markdown",
   "id": "49680ea3",
   "metadata": {},
   "source": [
    "### Making the Confusion Matrix for Decision Tree"
   ]
  },
  {
   "cell_type": "code",
   "execution_count": 18,
   "id": "8c37206d",
   "metadata": {},
   "outputs": [
    {
     "name": "stdout",
     "output_type": "stream",
     "text": [
      "[[424 295]\n",
      " [ 49  66]]\n",
      " \n",
      "True Positive is 66; True Negative is 424; False Positive is 295; False Negative is 49.\n",
      "\n",
      "Accuracy is 0.59; recall is 0.57; precision is 0.18.\n"
     ]
    }
   ],
   "source": [
    "cm_scores(nb_class)"
   ]
  }
 ],
 "metadata": {
  "kernelspec": {
   "display_name": "Python 3",
   "language": "python",
   "name": "python3"
  },
  "language_info": {
   "codemirror_mode": {
    "name": "ipython",
    "version": 3
   },
   "file_extension": ".py",
   "mimetype": "text/x-python",
   "name": "python",
   "nbconvert_exporter": "python",
   "pygments_lexer": "ipython3",
   "version": "3.8.8"
  }
 },
 "nbformat": 4,
 "nbformat_minor": 5
}
