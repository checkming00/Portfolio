{
 "cells": [
  {
   "cell_type": "code",
   "execution_count": 1,
   "id": "9a5b2a10",
   "metadata": {},
   "outputs": [
    {
     "name": "stderr",
     "output_type": "stream",
     "text": [
      "\n",
      "The dash_html_components package is deprecated. Please replace\n",
      "`import dash_html_components as html` with `from dash import html`\n",
      "\n",
      "The dash_core_components package is deprecated. Please replace\n",
      "`import dash_core_components as dcc` with `from dash import dcc`\n",
      "\n",
      "The dash_table package is deprecated. Please replace\n",
      "`import dash_table` with `from dash import dash_table`\n",
      "\n",
      "Also, if you're using any of the table format helpers (e.g. Group), replace \n",
      "`from dash_table.Format import Group` with \n",
      "`from dash.dash_table.Format import Group`\n"
     ]
    }
   ],
   "source": [
    "import pandas as pd\n",
    "import numpy as np\n",
    "from sklearn.tree import DecisionTreeClassifier\n",
    "from sklearn.naive_bayes import GaussianNB\n",
    "from sklearn.metrics import confusion_matrix, accuracy_score,recall_score,precision_score\n",
    "from explainerdashboard import ClassifierExplainer, ExplainerDashboard\n",
    "import matplotlib.pyplot as plt\n",
    "import matplotlib\n",
    "import seaborn as sns\n",
    "plt.style.use('ggplot')\n",
    "\n",
    "%matplotlib inline\n",
    "matplotlib.rcParams['figure.figsize']=(12,8)"
   ]
  },
  {
   "cell_type": "code",
   "execution_count": 2,
   "id": "58b5dd1d",
   "metadata": {},
   "outputs": [],
   "source": [
    "feature_descriptions={'State':'Customer’s state',\n",
    "'Account Length':'Integer number showing the duration of activity for customer account',\n",
    "'Area Code':'Area code of customer',\n",
    "'Phone':'Phone number of customer',\n",
    "\"Int'l Plan\":'Binary indicator showing whether the customer has international calling plan',\n",
    "'VMail Plan':'Indicator of voice mail plan',\n",
    "'VMail Message':'The number of voicemail messages',\n",
    "'Day Mins':'The number of minutes the customer used the service during day time',\n",
    "'Day Calls':'Discrete attribute indicating the total number of calls during day time',\n",
    "'Day Charge':'Charges for using the service during day time',\n",
    "'Eve Mins':'The number of minutes the customer used the service during evening time',\n",
    "'Eve Calls':' The number of calls during evening time',\n",
    "'Eve Charge':' Charges for using the service during evening time',\n",
    "'Night Mins':' Number of minutes the customer used the service during night time',\n",
    "'Night Calls':'The number of calls during night time',\n",
    "'Night Charge':'Charges for using the service during night time',\n",
    "'Intl Mins':'Number of minutes the customer used the service to make international calls',\n",
    "'Intl Calls':'The number of international calls',\n",
    "'Intl Charge':'Charges for international calls',\n",
    "'CustServ Calls':'The number of calls to customer support service'\n",
    "}"
   ]
  },
  {
   "cell_type": "markdown",
   "id": "c333fe9b",
   "metadata": {},
   "source": [
    "# Import dataset"
   ]
  },
  {
   "cell_type": "code",
   "execution_count": 3,
   "id": "0f7e196c",
   "metadata": {},
   "outputs": [],
   "source": [
    "df=pd.read_csv('churn.csv')"
   ]
  },
  {
   "cell_type": "markdown",
   "id": "b1fb2394",
   "metadata": {},
   "source": [
    "# Data Transformation"
   ]
  },
  {
   "cell_type": "markdown",
   "id": "7225a630",
   "metadata": {},
   "source": [
    "### Transform phone and binary attributes"
   ]
  },
  {
   "cell_type": "code",
   "execution_count": 4,
   "id": "2452d74d",
   "metadata": {},
   "outputs": [],
   "source": [
    "df['Phone_Number']='('+df['Area Code'].astype('str')+')'+df['Phone']\n",
    "df[\"Int'l Plan\"]=df[\"Int'l Plan\"].apply(lambda i:0 if i==\"no\" else 1)\n",
    "df['VMail Plan']=df['VMail Plan'].apply(lambda i:0 if i==\"no\" else 1)\n",
    "df['Churn?']=df['Churn?'].apply(lambda c:0 if c==\"False.\" else 1)"
   ]
  },
  {
   "cell_type": "code",
   "execution_count": 5,
   "id": "cd9f7ca4",
   "metadata": {},
   "outputs": [],
   "source": [
    "df.index=df['Phone_Number']\n",
    "df=df.drop(columns=['Area Code','Phone','Phone_Number'])"
   ]
  },
  {
   "cell_type": "markdown",
   "id": "8b091273",
   "metadata": {},
   "source": [
    "### Divide into attributes and class"
   ]
  },
  {
   "cell_type": "code",
   "execution_count": 6,
   "id": "c3f6157f",
   "metadata": {},
   "outputs": [],
   "source": [
    "X=df.iloc[:,:-1]\n",
    "y=df.iloc[:,-1]"
   ]
  },
  {
   "cell_type": "markdown",
   "id": "d7f42f01",
   "metadata": {},
   "source": [
    "### Encoding State column"
   ]
  },
  {
   "cell_type": "code",
   "execution_count": 7,
   "id": "5c9ce4dd",
   "metadata": {},
   "outputs": [],
   "source": [
    "X=pd.get_dummies(X,columns=['State'])"
   ]
  },
  {
   "cell_type": "markdown",
   "id": "1aea0597",
   "metadata": {},
   "source": [
    "### Splitting the dataset into the Training set and Test set"
   ]
  },
  {
   "cell_type": "code",
   "execution_count": 8,
   "id": "f7029979",
   "metadata": {},
   "outputs": [],
   "source": [
    "from sklearn.model_selection import train_test_split\n",
    "X_train, X_test, y_train, y_test = train_test_split(X, y, test_size = 0.4, random_state = 0)"
   ]
  },
  {
   "cell_type": "code",
   "execution_count": 9,
   "id": "fb578b1a",
   "metadata": {},
   "outputs": [],
   "source": [
    "phone_numbers=X_test.index.tolist()"
   ]
  },
  {
   "cell_type": "markdown",
   "id": "2cf84143",
   "metadata": {},
   "source": [
    "# Building model using Decision Tree"
   ]
  },
  {
   "cell_type": "markdown",
   "id": "e4c9220d",
   "metadata": {},
   "source": [
    "### Training the Decision Tree Classification model on the Training set"
   ]
  },
  {
   "cell_type": "code",
   "execution_count": 10,
   "id": "83b1cfb7",
   "metadata": {},
   "outputs": [],
   "source": [
    "def decision_tree_class():\n",
    "    classifier = DecisionTreeClassifier(criterion = 'entropy', random_state = 0)\n",
    "    classifier.fit(X_train, y_train)\n",
    "    return classifier"
   ]
  },
  {
   "cell_type": "code",
   "execution_count": 11,
   "id": "d0a6bda5",
   "metadata": {},
   "outputs": [],
   "source": [
    "dt_class=decision_tree_class()"
   ]
  },
  {
   "cell_type": "code",
   "execution_count": 12,
   "id": "9e8ac096",
   "metadata": {},
   "outputs": [],
   "source": [
    "def generate_dt_dashboard():\n",
    "    explainer_dt_all = ClassifierExplainer(dt_class, X_test, y_test, \n",
    "                                    descriptions=feature_descriptions,\n",
    "                                    labels=['Not Churn', 'Churn'], \n",
    "                                    cats=['State'],\n",
    "                                    idxs = phone_numbers, \n",
    "                                    index_name = \"Phone Number\", \n",
    "                                    target = \"Churn\", \n",
    "                                    )\n",
    "    db_dt_all=ExplainerDashboard(explainer_dt_all, \n",
    "                            title=\"Churn Prediction by Decision Tree\", \n",
    "                            shap_interaction=False,\n",
    "                            )\n",
    "    db_dt_all.run(port=8050)"
   ]
  },
  {
   "cell_type": "markdown",
   "id": "0a39fc1a",
   "metadata": {},
   "source": [
    "### Making the Confusion Matrix for Decision Tree"
   ]
  },
  {
   "cell_type": "code",
   "execution_count": 13,
   "id": "2d6ec72c",
   "metadata": {},
   "outputs": [],
   "source": [
    "def cm_scores(classifier):\n",
    "    y_pred = classifier.predict(X_test)\n",
    "    cm = confusion_matrix(y_test, y_pred)\n",
    "    tn, fp, fn, tp= confusion_matrix(y_test, y_pred).ravel()\n",
    "    print(cm)\n",
    "    print(' ')\n",
    "    print('True Positive is {}.'.format(tp))\n",
    "    print('True Negative is {}.'.format(tn))\n",
    "    print('False Positive is {}.'.format(fp))\n",
    "    print('False Negative is {}.\\n'.format(fn))\n",
    "    accuracy=round(accuracy_score(y_test, y_pred),2)\n",
    "    recall=round(recall_score(y_test,y_pred),2)\n",
    "    precision=round(precision_score(y_test,y_pred),2)\n",
    "    print('Accuracy is {}.'.format(accuracy))\n",
    "    print('Recall is {}.'.format(recall))\n",
    "    print('Precision is {}.\\n'.format(precision))\n",
    "    return tn,fp,fn,tp,accuracy,recall,precision"
   ]
  },
  {
   "cell_type": "code",
   "execution_count": 14,
   "id": "775812c5",
   "metadata": {},
   "outputs": [
    {
     "name": "stdout",
     "output_type": "stream",
     "text": [
      "[[1077   75]\n",
      " [  51  131]]\n",
      " \n",
      "True Positive is 131.\n",
      "True Negative is 1077.\n",
      "False Positive is 75.\n",
      "False Negative is 51.\n",
      "\n",
      "Accuracy is 0.91.\n",
      "Recall is 0.72.\n",
      "Precision is 0.64.\n",
      "\n"
     ]
    }
   ],
   "source": [
    "dt_tn,dt_fp,dt_fn,dt_tp,dt_accuracy,dt_recall,dt_precision=cm_scores(dt_class)"
   ]
  },
  {
   "cell_type": "markdown",
   "id": "717f7450",
   "metadata": {},
   "source": [
    "### Visualize the importances of attributes"
   ]
  },
  {
   "cell_type": "code",
   "execution_count": 15,
   "id": "7a901f6e",
   "metadata": {},
   "outputs": [],
   "source": [
    "importance_dt=dt_class.feature_importances_"
   ]
  },
  {
   "cell_type": "code",
   "execution_count": 16,
   "id": "227df036",
   "metadata": {},
   "outputs": [],
   "source": [
    "def get_importance(importance):\n",
    "    import_df=pd.DataFrame(importance,index=X.columns)\n",
    "    state_importance=0\n",
    "    new_import_df=import_df.copy()\n",
    "    for i in import_df.index.tolist():\n",
    "        if 'State' in i:\n",
    "            state_importance+=import_df[0][i]\n",
    "            new_import_df=new_import_df.drop(i,axis=0)\n",
    "    new_import_df=new_import_df.append(pd.DataFrame([state_importance],index=['State']))\n",
    "    new_import_df=new_import_df.sort_values(by=0,ascending=False)\n",
    "    ind=new_import_df.index.tolist()\n",
    "    return ind,new_import_df"
   ]
  },
  {
   "cell_type": "code",
   "execution_count": 17,
   "id": "eea18cc9",
   "metadata": {},
   "outputs": [
    {
     "data": {
      "image/png": "[encoded data removed]",
      "text/plain": [
       "<Figure size 864x576 with 1 Axes>"
      ]
     },
     "metadata": {
      "needs_background": "light"
     },
     "output_type": "display_data"
    }
   ],
   "source": [
    "ind_dt,new_import_df_dt=get_importance(importance_dt)\n",
    "plt.bar([x for x in range(len(new_import_df_dt))], new_import_df_dt[0])\n",
    "plt.xticks([i for i in range(len(ind_dt))],ind_dt,rotation=90)\n",
    "plt.show()"
   ]
  },
  {
   "cell_type": "markdown",
   "id": "983d024e",
   "metadata": {},
   "source": [
    "# Building model using Naive Bayes"
   ]
  },
  {
   "cell_type": "markdown",
   "id": "c60a21d4",
   "metadata": {},
   "source": [
    "### Training the Naive Bayes Classification model on the Training set"
   ]
  },
  {
   "cell_type": "code",
   "execution_count": 18,
   "id": "85f31f5b",
   "metadata": {},
   "outputs": [],
   "source": [
    "def naive_bayes_class():\n",
    "    classifier = GaussianNB()\n",
    "    classifier.fit(X_train, y_train)\n",
    "    return classifier"
   ]
  },
  {
   "cell_type": "code",
   "execution_count": 19,
   "id": "36a017e0",
   "metadata": {},
   "outputs": [],
   "source": [
    "nb_class=naive_bayes_class()"
   ]
  },
  {
   "cell_type": "code",
   "execution_count": 20,
   "id": "57c65f32",
   "metadata": {},
   "outputs": [],
   "source": [
    "def generate_nb_dashboard():\n",
    "    explainer_nb_all = ClassifierExplainer(nb_class, X_test, y_test, \n",
    "                                    descriptions=feature_descriptions,\n",
    "                                    labels=['Not Churn', 'Churn'], \n",
    "                                    cats=['State'],\n",
    "                                    idxs = phone_numbers, \n",
    "                                    index_name = \"Phone Number\", \n",
    "                                    target = \"Churn\", \n",
    "                                    )\n",
    "    db_nb_all=ExplainerDashboard(explainer_nb_all, \n",
    "                            title=\"Churn Prediction by Naive Bayes\", \n",
    "                            shap_interaction=False,\n",
    "                            )\n",
    "    db_nb_all.run(port=8050)"
   ]
  },
  {
   "cell_type": "markdown",
   "id": "49680ea3",
   "metadata": {},
   "source": [
    "### Making the Confusion Matrix for Naive Bayes"
   ]
  },
  {
   "cell_type": "code",
   "execution_count": 21,
   "id": "8c37206d",
   "metadata": {},
   "outputs": [
    {
     "name": "stdout",
     "output_type": "stream",
     "text": [
      "[[643 509]\n",
      " [ 68 114]]\n",
      " \n",
      "True Positive is 114.\n",
      "True Negative is 643.\n",
      "False Positive is 509.\n",
      "False Negative is 68.\n",
      "\n",
      "Accuracy is 0.57.\n",
      "Recall is 0.63.\n",
      "Precision is 0.18.\n",
      "\n"
     ]
    }
   ],
   "source": [
    "nb_tn,nb_fp,nb_fn,nb_tp,nb_accuracy,nb_recall,nb_precision=cm_scores(nb_class)"
   ]
  },
  {
   "cell_type": "markdown",
   "id": "b64d9678",
   "metadata": {},
   "source": [
    "### Visualize the importances of attributes"
   ]
  },
  {
   "cell_type": "code",
   "execution_count": 22,
   "id": "2d064b4a",
   "metadata": {},
   "outputs": [],
   "source": [
    "from sklearn.inspection import permutation_importance"
   ]
  },
  {
   "cell_type": "code",
   "execution_count": 23,
   "id": "e46cc7d0",
   "metadata": {},
   "outputs": [],
   "source": [
    "imps = permutation_importance(nb_class, X_test, y_test)\n",
    "importance_nb=imps.importances_mean"
   ]
  },
  {
   "cell_type": "code",
   "execution_count": 24,
   "id": "4ade416f",
   "metadata": {},
   "outputs": [
    {
     "data": {
      "image/png": "[encoded data removed]",
      "text/plain": [
       "<Figure size 864x576 with 1 Axes>"
      ]
     },
     "metadata": {
      "needs_background": "light"
     },
     "output_type": "display_data"
    }
   ],
   "source": [
    "ind_nb,new_import_df_nb=get_importance(importance_nb)\n",
    "plt.bar([x for x in range(len(new_import_df_nb))], new_import_df_nb[0])\n",
    "plt.xticks([i for i in range(len(ind_nb))],ind_nb,rotation=90)\n",
    "plt.show()"
   ]
  },
  {
   "cell_type": "markdown",
   "id": "90b6789d",
   "metadata": {},
   "source": [
    "# Confusion Matrix Comparison "
   ]
  },
  {
   "cell_type": "code",
   "execution_count": 25,
   "id": "2ed78bf9",
   "metadata": {},
   "outputs": [],
   "source": [
    "cm_compare=pd.DataFrame([[dt_tp,dt_fn,nb_tp,nb_fn],[dt_fp,dt_tn,nb_fp,nb_tn],[dt_accuracy,np.nan,nb_accuracy,np.nan],[dt_recall,np.nan,nb_recall,np.nan],[dt_precision,np.nan,nb_precision,np.nan]],\n",
    "                        index=pd.Index(['Churn','Not Churn','Accuracy','Recall','Precision'],name='Actual:'),\n",
    "                        columns=pd.MultiIndex.from_product([['Decision Tree','Naive Bayes'],['Churn','Not Churn']],names=['Model:','Predicted']))\n",
    "cm_compare=cm_compare.style.format('{:.2f}')"
   ]
  },
  {
   "cell_type": "code",
   "execution_count": 26,
   "id": "b30402e8",
   "metadata": {},
   "outputs": [],
   "source": [
    "cell_hover = {\n",
    "    'selector': 'td:hover',\n",
    "    'props': [('background-color', '#ffffb3')]\n",
    "}\n",
    "index_names = {\n",
    "    'selector': '.index_name',\n",
    "    'props': [('font-style','italic'), ('color', 'darkgrey'), ('font-weight','normal')]\n",
    "}\n",
    "headers = {\n",
    "    'selector': 'th:not(.index_name)',\n",
    "    'props': [('background-color','#000066'), ('color','white')]\n",
    "}\n"
   ]
  },
  {
   "cell_type": "code",
   "execution_count": 27,
   "id": "2096809a",
   "metadata": {},
   "outputs": [],
   "source": [
    "cm_compare=cm_compare.set_table_styles([cell_hover, index_names, headers])"
   ]
  },
  {
   "cell_type": "code",
   "execution_count": 28,
   "id": "d5e00604",
   "metadata": {},
   "outputs": [],
   "source": [
    "cm_compare=cm_compare.set_table_styles([\n",
    "    {'selector': 'th.col_heading', 'props': [('text-align', 'center')]},\n",
    "    {'selector': 'th.col_heading.level0', 'props': [('font-size', '1.5em')]},\n",
    "    {'selector': 'td', 'props': [('text-align','center'), ('font-weight', 'bold')]}\n",
    "], overwrite=False)"
   ]
  },
  {
   "cell_type": "code",
   "execution_count": 29,
   "id": "444489b5",
   "metadata": {},
   "outputs": [],
   "source": [
    "cm_compare=cm_compare.set_table_styles({\n",
    "    ('Naive Bayes', 'Churn'): [{'selector': 'th', 'props': [('border-left','1px solid white')]},\n",
    "                               {'selector': 'td', 'props': [('border-left','1px solid #000066')]}]\n",
    "}, overwrite=False, axis=0)"
   ]
  },
  {
   "cell_type": "code",
   "execution_count": 30,
   "id": "14901dc9",
   "metadata": {},
   "outputs": [
    {
     "data": {
      "text/html": [
       "<style  type=\"text/css\" >\n",
       "    #T_9c236_ td:hover {\n",
       "          background-color: #ffffb3;\n",
       "    }    #T_9c236_ .index_name {\n",
       "          font-style: italic;\n",
       "          color: darkgrey;\n",
       "          font-weight: normal;\n",
       "    }    #T_9c236_ th:not(.index_name) {\n",
       "          background-color: #000066;\n",
       "          color: white;\n",
       "    }    #T_9c236_ th.col_heading {\n",
       "          text-align: center;\n",
       "    }    #T_9c236_ th.col_heading.level0 {\n",
       "          font-size: 1.5em;\n",
       "    }    #T_9c236_ td {\n",
       "          text-align: center;\n",
       "          font-weight: bold;\n",
       "    }    #T_9c236_ th.col2 {\n",
       "          border-left: 1px solid white;\n",
       "    }    #T_9c236_ td.col2 {\n",
       "          border-left: 1px solid #000066;\n",
       "    }</style><table id=\"T_9c236_\" ><thead>    <tr>        <th class=\"index_name level0\" >Model:</th>        <th class=\"col_heading level0 col0\" colspan=\"2\">Decision Tree</th>        <th class=\"col_heading level0 col2\" colspan=\"2\">Naive Bayes</th>    </tr>    <tr>        <th class=\"index_name level1\" >Predicted</th>        <th class=\"col_heading level1 col0\" >Churn</th>        <th class=\"col_heading level1 col1\" >Not Churn</th>        <th class=\"col_heading level1 col2\" >Churn</th>        <th class=\"col_heading level1 col3\" >Not Churn</th>    </tr>    <tr>        <th class=\"index_name level0\" >Actual:</th>        <th class=\"blank\" ></th>        <th class=\"blank\" ></th>        <th class=\"blank\" ></th>        <th class=\"blank\" ></th>    </tr></thead><tbody>\n",
       "                <tr>\n",
       "                        <th id=\"T_9c236_level0_row0\" class=\"row_heading level0 row0\" >Churn</th>\n",
       "                        <td id=\"T_9c236_row0_col0\" class=\"data row0 col0\" >131.00</td>\n",
       "                        <td id=\"T_9c236_row0_col1\" class=\"data row0 col1\" >51.00</td>\n",
       "                        <td id=\"T_9c236_row0_col2\" class=\"data row0 col2\" >114.00</td>\n",
       "                        <td id=\"T_9c236_row0_col3\" class=\"data row0 col3\" >68.00</td>\n",
       "            </tr>\n",
       "            <tr>\n",
       "                        <th id=\"T_9c236_level0_row1\" class=\"row_heading level0 row1\" >Not Churn</th>\n",
       "                        <td id=\"T_9c236_row1_col0\" class=\"data row1 col0\" >75.00</td>\n",
       "                        <td id=\"T_9c236_row1_col1\" class=\"data row1 col1\" >1077.00</td>\n",
       "                        <td id=\"T_9c236_row1_col2\" class=\"data row1 col2\" >509.00</td>\n",
       "                        <td id=\"T_9c236_row1_col3\" class=\"data row1 col3\" >643.00</td>\n",
       "            </tr>\n",
       "            <tr>\n",
       "                        <th id=\"T_9c236_level0_row2\" class=\"row_heading level0 row2\" >Accuracy</th>\n",
       "                        <td id=\"T_9c236_row2_col0\" class=\"data row2 col0\" >0.91</td>\n",
       "                        <td id=\"T_9c236_row2_col1\" class=\"data row2 col1\" >nan</td>\n",
       "                        <td id=\"T_9c236_row2_col2\" class=\"data row2 col2\" >0.57</td>\n",
       "                        <td id=\"T_9c236_row2_col3\" class=\"data row2 col3\" >nan</td>\n",
       "            </tr>\n",
       "            <tr>\n",
       "                        <th id=\"T_9c236_level0_row3\" class=\"row_heading level0 row3\" >Recall</th>\n",
       "                        <td id=\"T_9c236_row3_col0\" class=\"data row3 col0\" >0.72</td>\n",
       "                        <td id=\"T_9c236_row3_col1\" class=\"data row3 col1\" >nan</td>\n",
       "                        <td id=\"T_9c236_row3_col2\" class=\"data row3 col2\" >0.63</td>\n",
       "                        <td id=\"T_9c236_row3_col3\" class=\"data row3 col3\" >nan</td>\n",
       "            </tr>\n",
       "            <tr>\n",
       "                        <th id=\"T_9c236_level0_row4\" class=\"row_heading level0 row4\" >Precision</th>\n",
       "                        <td id=\"T_9c236_row4_col0\" class=\"data row4 col0\" >0.64</td>\n",
       "                        <td id=\"T_9c236_row4_col1\" class=\"data row4 col1\" >nan</td>\n",
       "                        <td id=\"T_9c236_row4_col2\" class=\"data row4 col2\" >0.18</td>\n",
       "                        <td id=\"T_9c236_row4_col3\" class=\"data row4 col3\" >nan</td>\n",
       "            </tr>\n",
       "    </tbody></table>"
      ],
      "text/plain": [
       "<pandas.io.formats.style.Styler at 0x24e3d315040>"
      ]
     },
     "execution_count": 30,
     "metadata": {},
     "output_type": "execute_result"
    }
   ],
   "source": [
    "cm_compare"
   ]
  },
  {
   "cell_type": "markdown",
   "id": "beeb522c",
   "metadata": {},
   "source": [
    "# Find which attributes to build models"
   ]
  },
  {
   "cell_type": "markdown",
   "id": "16b817ef",
   "metadata": {},
   "source": [
    "### Decision Tree"
   ]
  },
  {
   "cell_type": "code",
   "execution_count": 31,
   "id": "ba70180a",
   "metadata": {},
   "outputs": [],
   "source": [
    "def visual_metrics(model,import_df):\n",
    "    train_accuracies=[]\n",
    "    test_accuracies=[]\n",
    "    train_precisions=[]\n",
    "    test_precisions=[]\n",
    "    use_cols=[]\n",
    "    features=import_df.index.tolist()\n",
    "    for i in range(len(features),0,-1):\n",
    "        use_features=features[:i]\n",
    "        use_cols.append(len(use_features))\n",
    "        X=df[use_features]\n",
    "        if 'State' in use_features:\n",
    "            X=pd.get_dummies(X,columns=['State'])\n",
    "        X_train, X_test, y_train, y_test = train_test_split(X, y, test_size = 0.4, random_state = 0)\n",
    "        if model=='Decision Tree':\n",
    "            classifier=DecisionTreeClassifier(criterion = 'entropy', random_state = 0)\n",
    "        else:\n",
    "            classifier=GaussianNB()\n",
    "        classifier.fit(X_train,y_train)\n",
    "        train_accuracies.append(accuracy_score(y_train,classifier.predict(X_train)))\n",
    "        test_accuracies.append(accuracy_score(y_test,classifier.predict(X_test)))\n",
    "        train_precisions.append(precision_score(y_train,classifier.predict(X_train)))\n",
    "        test_precisions.append(precision_score(y_test,classifier.predict(X_test)))\n",
    "    fig,(ax1,ax2)=plt.subplots(2)\n",
    "    ax1.plot(use_cols,train_accuracies,'-o',label='Train')\n",
    "    ax1.plot(use_cols,test_accuracies,'-o',label='Test')\n",
    "    ax1.legend()\n",
    "    ax1.invert_xaxis()\n",
    "    ax1_y_max=max(test_accuracies)\n",
    "    ax1_x=use_cols[test_accuracies.index(ax1_y_max)]\n",
    "    ax1.annotate('Highest Accuracy ({} features used)'.format(ax1_x),xy=(ax1_x,ax1_y_max),xytext=(ax1_x, ax1_y_max+0.03),arrowprops=dict(facecolor='black', shrink=0.05))\n",
    "    ax1.set_title('Accuracy of {}'.format(model))\n",
    "    \n",
    "    ax2.plot(use_cols,train_precisions,'-o',label='Train')\n",
    "    ax2.plot(use_cols,test_precisions,'-o',label='Test')\n",
    "    ax2.legend()\n",
    "    ax2.invert_xaxis()\n",
    "    ax2_y_max=max(test_precisions)\n",
    "    ax2_x=use_cols[test_precisions.index(ax2_y_max)]\n",
    "    ax2.annotate('Highest Precision ({} features used)'.format(ax2_x),xy=(ax2_x,ax2_y_max),xytext=(ax2_x, ax2_y_max+0.03),arrowprops=dict(facecolor='black', shrink=0.05))\n",
    "    ax2.set_title('Precision of {}'.format(model))\n",
    "    fig.show()"
   ]
  },
  {
   "cell_type": "code",
   "execution_count": 32,
   "id": "17fcbb8e",
   "metadata": {},
   "outputs": [
    {
     "name": "stderr",
     "output_type": "stream",
     "text": [
      "Matplotlib is currently using module://ipykernel.pylab.backend_inline, which is a non-GUI backend, so cannot show the figure.\n"
     ]
    },
    {
     "data": {
      "image/png": "[encoded data removed]",
      "text/plain": [
       "<Figure size 864x576 with 2 Axes>"
      ]
     },
     "metadata": {
      "needs_background": "light"
     },
     "output_type": "display_data"
    }
   ],
   "source": [
    "visual_metrics('Decision Tree',new_import_df_dt)"
   ]
  },
  {
   "cell_type": "markdown",
   "id": "60940ea3",
   "metadata": {},
   "source": [
    "### Naive Bayes"
   ]
  },
  {
   "cell_type": "code",
   "execution_count": 33,
   "id": "0e4ceb08",
   "metadata": {},
   "outputs": [],
   "source": [
    "import_nb=new_import_df_nb.apply(lambda x:abs(x))\n",
    "import_nb=import_nb.sort_values(by=0,ascending=False)"
   ]
  },
  {
   "cell_type": "code",
   "execution_count": 34,
   "id": "23a8ac8b",
   "metadata": {},
   "outputs": [
    {
     "name": "stderr",
     "output_type": "stream",
     "text": [
      "Matplotlib is currently using module://ipykernel.pylab.backend_inline, which is a non-GUI backend, so cannot show the figure.\n"
     ]
    },
    {
     "data": {
      "image/png": "[encoded data removed]",
      "text/plain": [
       "<Figure size 864x576 with 2 Axes>"
      ]
     },
     "metadata": {
      "needs_background": "light"
     },
     "output_type": "display_data"
    }
   ],
   "source": [
    "visual_metrics('Naive Bayes',import_nb)"
   ]
  },
  {
   "cell_type": "markdown",
   "id": "3e61120e",
   "metadata": {},
   "source": [
    "# Building models using filtered attributes"
   ]
  },
  {
   "cell_type": "markdown",
   "id": "791ad19f",
   "metadata": {},
   "source": [
    "### Decision Tree"
   ]
  },
  {
   "cell_type": "code",
   "execution_count": 35,
   "id": "8a0499e4",
   "metadata": {},
   "outputs": [],
   "source": [
    "filtered_att_dt=new_import_df_dt.index.tolist()[:14]"
   ]
  },
  {
   "cell_type": "code",
   "execution_count": 36,
   "id": "eb6cd9f6",
   "metadata": {},
   "outputs": [],
   "source": [
    "def filtered_att_pred(model,filtered_att):\n",
    "    X_filtered=df[filtered_att]\n",
    "    X_filtered=pd.get_dummies(X_filtered,columns=['State'])\n",
    "    X_train_filtered,X_test_filtered,y_train_filtered,y_test_filtered=train_test_split(X_filtered,y,test_size=0.4,random_state=0)\n",
    "    if model=='Decision Tree':\n",
    "        filtered_class=DecisionTreeClassifier(criterion = 'entropy', random_state = 0)\n",
    "    else:\n",
    "        filtered_class=GaussianNB()\n",
    "    filtered_class.fit(X_train_filtered,y_train_filtered)\n",
    "    \n",
    "    y_pred_filtered = filtered_class.predict(X_test_filtered)\n",
    "    cm = confusion_matrix(y_test_filtered, y_pred_filtered)\n",
    "    tn, fp, fn, tp= confusion_matrix(y_test_filtered, y_pred_filtered).ravel()\n",
    "    print(cm)\n",
    "    print(' ')\n",
    "    print('True Positive is {}.'.format(tp))\n",
    "    print('True Negative is {}.'.format(tn))\n",
    "    print('False Positive is {}.'.format(fp))\n",
    "    print('False Negative is {}.\\n'.format(fn))\n",
    "    accuracy=round(accuracy_score(y_test_filtered, y_pred_filtered),2)\n",
    "    recall=round(recall_score(y_test_filtered, y_pred_filtered),2)\n",
    "    precision=round(precision_score(y_test_filtered, y_pred_filtered),2)\n",
    "    print('Accuracy is {}.'.format(accuracy))\n",
    "    print('Recall is {}.'.format(recall))\n",
    "    print('Precision is {}.\\n'.format(precision))\n",
    "    return tn,fp,fn,tp,accuracy,recall,precision"
   ]
  },
  {
   "cell_type": "code",
   "execution_count": 37,
   "id": "e96104ef",
   "metadata": {},
   "outputs": [
    {
     "name": "stdout",
     "output_type": "stream",
     "text": [
      "[[1092   60]\n",
      " [  45  137]]\n",
      " \n",
      "True Positive is 137.\n",
      "True Negative is 1092.\n",
      "False Positive is 60.\n",
      "False Negative is 45.\n",
      "\n",
      "Accuracy is 0.92.\n",
      "Recall is 0.75.\n",
      "Precision is 0.7.\n",
      "\n"
     ]
    }
   ],
   "source": [
    "dt_tn_filtered,dt_fp_filtered,dt_fn_filtered,dt_tp_filtered,dt_accuracy_filtered,dt_recall_filtered,dt_precision_filtered=filtered_att_pred('Decision Tree',filtered_att_dt)"
   ]
  },
  {
   "cell_type": "markdown",
   "id": "0d383629",
   "metadata": {},
   "source": [
    "### Naive Bayes"
   ]
  },
  {
   "cell_type": "code",
   "execution_count": 38,
   "id": "1d6495e8",
   "metadata": {},
   "outputs": [
    {
     "name": "stdout",
     "output_type": "stream",
     "text": [
      "[[642 510]\n",
      " [ 68 114]]\n",
      " \n",
      "True Positive is 114.\n",
      "True Negative is 642.\n",
      "False Positive is 510.\n",
      "False Negative is 68.\n",
      "\n",
      "Accuracy is 0.57.\n",
      "Recall is 0.63.\n",
      "Precision is 0.18.\n",
      "\n"
     ]
    }
   ],
   "source": [
    "filtered_att_nb=import_nb.index.tolist()[:17]\n",
    "nb_tn_filtered,nb_fp_filtered,nb_fn_filtered,nb_tp_filtered,nb_accuracy_filtered,nb_recall_filtered,nb_precision_filtered=filtered_att_pred('Naive Bayes',filtered_att_nb)"
   ]
  },
  {
   "cell_type": "markdown",
   "id": "063ba0eb",
   "metadata": {},
   "source": [
    "# Confusion Matrix Comparison"
   ]
  },
  {
   "cell_type": "code",
   "execution_count": 39,
   "id": "7cd42f1e",
   "metadata": {},
   "outputs": [],
   "source": [
    "cm_compare2=pd.DataFrame([[dt_tp,dt_fn,dt_tp_filtered,dt_fn_filtered,nb_tp,nb_fn,nb_tp_filtered,nb_fn_filtered],\n",
    "                          [dt_fp,dt_tn,dt_fp_filtered,dt_tn_filtered,nb_fp,nb_tn,nb_fp_filtered,nb_tn_filtered],\n",
    "                          [dt_accuracy,np.nan,dt_accuracy_filtered,np.nan,nb_accuracy,np.nan,nb_accuracy_filtered,np.nan],\n",
    "                          [dt_recall,np.nan,dt_recall_filtered,np.nan,nb_recall,np.nan,nb_recall_filtered,np.nan],\n",
    "                          [dt_precision,np.nan,dt_precision_filtered,np.nan,nb_precision,np.nan,nb_precision_filtered,np.nan]],\n",
    "                        index=pd.Index(['Churn','Not Churn','Accuracy','Recall','Precision'],name='Actual:'),\n",
    "                        columns=pd.MultiIndex.from_product([['Decision Tree','Decision Tree (filtered)','Naive Bayes','Naive Bayes (filtered)'],['Churn','Not Churn']],names=['Model:','Predicted']))\n",
    "cm_compare2=cm_compare2.style.format('{:.2f}')"
   ]
  },
  {
   "cell_type": "code",
   "execution_count": 40,
   "id": "99a28966",
   "metadata": {},
   "outputs": [],
   "source": [
    "cm_compare2=cm_compare2.set_table_styles([cell_hover, index_names, headers])\n",
    "cm_compare2=cm_compare2.set_table_styles([\n",
    "    {'selector': 'th.col_heading', 'props': [('text-align', 'center')]},\n",
    "    {'selector': 'th.col_heading.level0', 'props': [('font-size', '1.5em')]},\n",
    "    {'selector': 'td', 'props': [('text-align','center'), ('font-weight', 'bold')]}\n",
    "], overwrite=False)\n",
    "cm_compare2=cm_compare2.set_table_styles({\n",
    "    ('Naive Bayes', 'Churn'): [{'selector': 'th', 'props': [('border-left','1px solid white')]},\n",
    "                               {'selector': 'td', 'props': [('border-left','1px solid #000066')]}]\n",
    "}, overwrite=False, axis=0)"
   ]
  },
  {
   "cell_type": "code",
   "execution_count": 41,
   "id": "46239998",
   "metadata": {},
   "outputs": [
    {
     "data": {
      "text/html": [
       "<style  type=\"text/css\" >\n",
       "    #T_96cf7_ td:hover {\n",
       "          background-color: #ffffb3;\n",
       "    }    #T_96cf7_ .index_name {\n",
       "          font-style: italic;\n",
       "          color: darkgrey;\n",
       "          font-weight: normal;\n",
       "    }    #T_96cf7_ th:not(.index_name) {\n",
       "          background-color: #000066;\n",
       "          color: white;\n",
       "    }    #T_96cf7_ th.col_heading {\n",
       "          text-align: center;\n",
       "    }    #T_96cf7_ th.col_heading.level0 {\n",
       "          font-size: 1.5em;\n",
       "    }    #T_96cf7_ td {\n",
       "          text-align: center;\n",
       "          font-weight: bold;\n",
       "    }    #T_96cf7_ th.col4 {\n",
       "          border-left: 1px solid white;\n",
       "    }    #T_96cf7_ td.col4 {\n",
       "          border-left: 1px solid #000066;\n",
       "    }</style><table id=\"T_96cf7_\" ><thead>    <tr>        <th class=\"index_name level0\" >Model:</th>        <th class=\"col_heading level0 col0\" colspan=\"2\">Decision Tree</th>        <th class=\"col_heading level0 col2\" colspan=\"2\">Decision Tree (filtered)</th>        <th class=\"col_heading level0 col4\" colspan=\"2\">Naive Bayes</th>        <th class=\"col_heading level0 col6\" colspan=\"2\">Naive Bayes (filtered)</th>    </tr>    <tr>        <th class=\"index_name level1\" >Predicted</th>        <th class=\"col_heading level1 col0\" >Churn</th>        <th class=\"col_heading level1 col1\" >Not Churn</th>        <th class=\"col_heading level1 col2\" >Churn</th>        <th class=\"col_heading level1 col3\" >Not Churn</th>        <th class=\"col_heading level1 col4\" >Churn</th>        <th class=\"col_heading level1 col5\" >Not Churn</th>        <th class=\"col_heading level1 col6\" >Churn</th>        <th class=\"col_heading level1 col7\" >Not Churn</th>    </tr>    <tr>        <th class=\"index_name level0\" >Actual:</th>        <th class=\"blank\" ></th>        <th class=\"blank\" ></th>        <th class=\"blank\" ></th>        <th class=\"blank\" ></th>        <th class=\"blank\" ></th>        <th class=\"blank\" ></th>        <th class=\"blank\" ></th>        <th class=\"blank\" ></th>    </tr></thead><tbody>\n",
       "                <tr>\n",
       "                        <th id=\"T_96cf7_level0_row0\" class=\"row_heading level0 row0\" >Churn</th>\n",
       "                        <td id=\"T_96cf7_row0_col0\" class=\"data row0 col0\" >131.00</td>\n",
       "                        <td id=\"T_96cf7_row0_col1\" class=\"data row0 col1\" >51.00</td>\n",
       "                        <td id=\"T_96cf7_row0_col2\" class=\"data row0 col2\" >137.00</td>\n",
       "                        <td id=\"T_96cf7_row0_col3\" class=\"data row0 col3\" >45.00</td>\n",
       "                        <td id=\"T_96cf7_row0_col4\" class=\"data row0 col4\" >114.00</td>\n",
       "                        <td id=\"T_96cf7_row0_col5\" class=\"data row0 col5\" >68.00</td>\n",
       "                        <td id=\"T_96cf7_row0_col6\" class=\"data row0 col6\" >114.00</td>\n",
       "                        <td id=\"T_96cf7_row0_col7\" class=\"data row0 col7\" >68.00</td>\n",
       "            </tr>\n",
       "            <tr>\n",
       "                        <th id=\"T_96cf7_level0_row1\" class=\"row_heading level0 row1\" >Not Churn</th>\n",
       "                        <td id=\"T_96cf7_row1_col0\" class=\"data row1 col0\" >75.00</td>\n",
       "                        <td id=\"T_96cf7_row1_col1\" class=\"data row1 col1\" >1077.00</td>\n",
       "                        <td id=\"T_96cf7_row1_col2\" class=\"data row1 col2\" >60.00</td>\n",
       "                        <td id=\"T_96cf7_row1_col3\" class=\"data row1 col3\" >1092.00</td>\n",
       "                        <td id=\"T_96cf7_row1_col4\" class=\"data row1 col4\" >509.00</td>\n",
       "                        <td id=\"T_96cf7_row1_col5\" class=\"data row1 col5\" >643.00</td>\n",
       "                        <td id=\"T_96cf7_row1_col6\" class=\"data row1 col6\" >510.00</td>\n",
       "                        <td id=\"T_96cf7_row1_col7\" class=\"data row1 col7\" >642.00</td>\n",
       "            </tr>\n",
       "            <tr>\n",
       "                        <th id=\"T_96cf7_level0_row2\" class=\"row_heading level0 row2\" >Accuracy</th>\n",
       "                        <td id=\"T_96cf7_row2_col0\" class=\"data row2 col0\" >0.91</td>\n",
       "                        <td id=\"T_96cf7_row2_col1\" class=\"data row2 col1\" >nan</td>\n",
       "                        <td id=\"T_96cf7_row2_col2\" class=\"data row2 col2\" >0.92</td>\n",
       "                        <td id=\"T_96cf7_row2_col3\" class=\"data row2 col3\" >nan</td>\n",
       "                        <td id=\"T_96cf7_row2_col4\" class=\"data row2 col4\" >0.57</td>\n",
       "                        <td id=\"T_96cf7_row2_col5\" class=\"data row2 col5\" >nan</td>\n",
       "                        <td id=\"T_96cf7_row2_col6\" class=\"data row2 col6\" >0.57</td>\n",
       "                        <td id=\"T_96cf7_row2_col7\" class=\"data row2 col7\" >nan</td>\n",
       "            </tr>\n",
       "            <tr>\n",
       "                        <th id=\"T_96cf7_level0_row3\" class=\"row_heading level0 row3\" >Recall</th>\n",
       "                        <td id=\"T_96cf7_row3_col0\" class=\"data row3 col0\" >0.72</td>\n",
       "                        <td id=\"T_96cf7_row3_col1\" class=\"data row3 col1\" >nan</td>\n",
       "                        <td id=\"T_96cf7_row3_col2\" class=\"data row3 col2\" >0.75</td>\n",
       "                        <td id=\"T_96cf7_row3_col3\" class=\"data row3 col3\" >nan</td>\n",
       "                        <td id=\"T_96cf7_row3_col4\" class=\"data row3 col4\" >0.63</td>\n",
       "                        <td id=\"T_96cf7_row3_col5\" class=\"data row3 col5\" >nan</td>\n",
       "                        <td id=\"T_96cf7_row3_col6\" class=\"data row3 col6\" >0.63</td>\n",
       "                        <td id=\"T_96cf7_row3_col7\" class=\"data row3 col7\" >nan</td>\n",
       "            </tr>\n",
       "            <tr>\n",
       "                        <th id=\"T_96cf7_level0_row4\" class=\"row_heading level0 row4\" >Precision</th>\n",
       "                        <td id=\"T_96cf7_row4_col0\" class=\"data row4 col0\" >0.64</td>\n",
       "                        <td id=\"T_96cf7_row4_col1\" class=\"data row4 col1\" >nan</td>\n",
       "                        <td id=\"T_96cf7_row4_col2\" class=\"data row4 col2\" >0.70</td>\n",
       "                        <td id=\"T_96cf7_row4_col3\" class=\"data row4 col3\" >nan</td>\n",
       "                        <td id=\"T_96cf7_row4_col4\" class=\"data row4 col4\" >0.18</td>\n",
       "                        <td id=\"T_96cf7_row4_col5\" class=\"data row4 col5\" >nan</td>\n",
       "                        <td id=\"T_96cf7_row4_col6\" class=\"data row4 col6\" >0.18</td>\n",
       "                        <td id=\"T_96cf7_row4_col7\" class=\"data row4 col7\" >nan</td>\n",
       "            </tr>\n",
       "    </tbody></table>"
      ],
      "text/plain": [
       "<pandas.io.formats.style.Styler at 0x24e3d9068b0>"
      ]
     },
     "execution_count": 41,
     "metadata": {},
     "output_type": "execute_result"
    }
   ],
   "source": [
    "cm_compare2"
   ]
  }
 ],
 "metadata": {
  "kernelspec": {
   "display_name": "Python 3",
   "language": "python",
   "name": "python3"
  },
  "language_info": {
   "codemirror_mode": {
    "name": "ipython",
    "version": 3
   },
   "file_extension": ".py",
   "mimetype": "text/x-python",
   "name": "python",
   "nbconvert_exporter": "python",
   "pygments_lexer": "ipython3",
   "version": "3.8.8"
  }
 },
 "nbformat": 4,
 "nbformat_minor": 5
}
