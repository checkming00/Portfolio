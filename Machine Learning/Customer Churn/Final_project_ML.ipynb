{
 "cells": [
  {
   "cell_type": "code",
   "execution_count": 1,
   "id": "9a5b2a10",
   "metadata": {},
   "outputs": [
    {
     "name": "stderr",
     "output_type": "stream",
     "text": [
      "\n",
      "The dash_html_components package is deprecated. Please replace\n",
      "`import dash_html_components as html` with `from dash import html`\n",
      "\n",
      "The dash_core_components package is deprecated. Please replace\n",
      "`import dash_core_components as dcc` with `from dash import dcc`\n",
      "\n",
      "The dash_table package is deprecated. Please replace\n",
      "`import dash_table` with `from dash import dash_table`\n",
      "\n",
      "Also, if you're using any of the table format helpers (e.g. Group), replace \n",
      "`from dash_table.Format import Group` with \n",
      "`from dash.dash_table.Format import Group`\n"
     ]
    }
   ],
   "source": [
    "import pandas as pd\n",
    "import numpy as np\n",
    "from sklearn.tree import DecisionTreeClassifier\n",
    "from sklearn.naive_bayes import GaussianNB\n",
    "from sklearn.metrics import confusion_matrix, accuracy_score,recall_score,precision_score\n",
    "from explainerdashboard import ClassifierExplainer, ExplainerDashboard\n",
    "import matplotlib.pyplot as plt\n",
    "import matplotlib\n",
    "import seaborn as sns\n",
    "plt.style.use('ggplot')\n",
    "\n",
    "%matplotlib inline\n",
    "matplotlib.rcParams['figure.figsize']=(12,8)"
   ]
  },
  {
   "cell_type": "code",
   "execution_count": 2,
   "id": "58b5dd1d",
   "metadata": {},
   "outputs": [],
   "source": [
    "feature_descriptions={'State':'Customer’s state',\n",
    "'Account Length':'Integer number showing the duration of activity for customer account',\n",
    "'Area Code':'Area code of customer',\n",
    "'Phone':'Phone number of customer',\n",
    "\"Int'l Plan\":'Binary indicator showing whether the customer has international calling plan',\n",
    "'VMail Plan':'Indicator of voice mail plan',\n",
    "'VMail Message':'The number of voicemail messages',\n",
    "'Day Mins':'The number of minutes the customer used the service during day time',\n",
    "'Day Calls':'Discrete attribute indicating the total number of calls during day time',\n",
    "'Day Charge':'Charges for using the service during day time',\n",
    "'Eve Mins':'The number of minutes the customer used the service during evening time',\n",
    "'Eve Calls':' The number of calls during evening time',\n",
    "'Eve Charge':' Charges for using the service during evening time',\n",
    "'Night Mins':' Number of minutes the customer used the service during night time',\n",
    "'Night Calls':'The number of calls during night time',\n",
    "'Night Charge':'Charges for using the service during night time',\n",
    "'Intl Mins':'Number of minutes the customer used the service to make international calls',\n",
    "'Intl Calls':'The number of international calls',\n",
    "'Intl Charge':'Charges for international calls',\n",
    "'CustServ Calls':'The number of calls to customer support service'\n",
    "}"
   ]
  },
  {
   "cell_type": "markdown",
   "id": "c333fe9b",
   "metadata": {},
   "source": [
    "# Import dataset"
   ]
  },
  {
   "cell_type": "code",
   "execution_count": 3,
   "id": "0f7e196c",
   "metadata": {},
   "outputs": [],
   "source": [
    "df=pd.read_csv('churn.csv')"
   ]
  },
  {
   "cell_type": "markdown",
   "id": "b1fb2394",
   "metadata": {},
   "source": [
    "# Data Transformation"
   ]
  },
  {
   "cell_type": "markdown",
   "id": "7225a630",
   "metadata": {},
   "source": [
    "### Transform phone and binary attributes"
   ]
  },
  {
   "cell_type": "code",
   "execution_count": 4,
   "id": "2452d74d",
   "metadata": {},
   "outputs": [],
   "source": [
    "df['Phone_Number']='('+df['Area Code'].astype('str')+')'+df['Phone']\n",
    "df[\"Int'l Plan\"]=df[\"Int'l Plan\"].apply(lambda i:0 if i==\"no\" else 1)\n",
    "df['VMail Plan']=df['VMail Plan'].apply(lambda i:0 if i==\"no\" else 1)\n",
    "df['Churn?']=df['Churn?'].apply(lambda c:0 if c==\"False.\" else 1)"
   ]
  },
  {
   "cell_type": "code",
   "execution_count": 5,
   "id": "cd9f7ca4",
   "metadata": {},
   "outputs": [],
   "source": [
    "df.index=df['Phone_Number']\n",
    "df=df.drop(columns=['Area Code','Phone','Phone_Number'])"
   ]
  },
  {
   "cell_type": "markdown",
   "id": "8b091273",
   "metadata": {},
   "source": [
    "### Divide into attributes and class"
   ]
  },
  {
   "cell_type": "code",
   "execution_count": 6,
   "id": "c3f6157f",
   "metadata": {},
   "outputs": [],
   "source": [
    "X=df.iloc[:,:-1]\n",
    "y=df.iloc[:,-1]"
   ]
  },
  {
   "cell_type": "markdown",
   "id": "d7f42f01",
   "metadata": {},
   "source": [
    "### Encoding State column"
   ]
  },
  {
   "cell_type": "code",
   "execution_count": 7,
   "id": "5c9ce4dd",
   "metadata": {},
   "outputs": [],
   "source": [
    "X=pd.get_dummies(X,columns=['State'])"
   ]
  },
  {
   "cell_type": "markdown",
   "id": "1aea0597",
   "metadata": {},
   "source": [
    "### Splitting the dataset into the Training set and Test set"
   ]
  },
  {
   "cell_type": "code",
   "execution_count": 8,
   "id": "f7029979",
   "metadata": {},
   "outputs": [],
   "source": [
    "from sklearn.model_selection import train_test_split\n",
    "X_train, X_test, y_train, y_test = train_test_split(X, y, test_size = 0.25, random_state = 0)"
   ]
  },
  {
   "cell_type": "code",
   "execution_count": 9,
   "id": "fb578b1a",
   "metadata": {},
   "outputs": [],
   "source": [
    "phone_numbers=X_test.index.tolist()"
   ]
  },
  {
   "cell_type": "markdown",
   "id": "2cf84143",
   "metadata": {},
   "source": [
    "# Building model using Decision Tree"
   ]
  },
  {
   "cell_type": "markdown",
   "id": "e4c9220d",
   "metadata": {},
   "source": [
    "### Training the Decision Tree Classification model on the Training set"
   ]
  },
  {
   "cell_type": "code",
   "execution_count": 10,
   "id": "83b1cfb7",
   "metadata": {},
   "outputs": [],
   "source": [
    "def decision_tree_class():\n",
    "    classifier = DecisionTreeClassifier(criterion = 'entropy', random_state = 0)\n",
    "    classifier.fit(X_train, y_train)\n",
    "    return classifier"
   ]
  },
  {
   "cell_type": "code",
   "execution_count": 11,
   "id": "d0a6bda5",
   "metadata": {},
   "outputs": [],
   "source": [
    "dt_class=decision_tree_class()"
   ]
  },
  {
   "cell_type": "code",
   "execution_count": null,
   "id": "9e8ac096",
   "metadata": {},
   "outputs": [],
   "source": [
    "explainer_dt_all = ClassifierExplainer(dt_class, X_test, y_test, \n",
    "                                descriptions=feature_descriptions,\n",
    "                                labels=['Not Churn', 'Churn'], \n",
    "                                cats=['State'],\n",
    "                                idxs = phone_numbers, \n",
    "                                index_name = \"Phone Number\", \n",
    "                                target = \"Churn\", \n",
    "                                )\n",
    "db_dt_all=ExplainerDashboard(explainer_dt_all, \n",
    "                        title=\"Churn Prediction by Decision Tree\", \n",
    "                        shap_interaction=False,\n",
    "                        )\n",
    "db_dt_all.run(port=8050)"
   ]
  },
  {
   "cell_type": "markdown",
   "id": "0a39fc1a",
   "metadata": {},
   "source": [
    "### Making the Confusion Matrix for Decision Tree"
   ]
  },
  {
   "cell_type": "code",
   "execution_count": 12,
   "id": "2d6ec72c",
   "metadata": {},
   "outputs": [],
   "source": [
    "def cm_scores(classifier):\n",
    "    y_pred = classifier.predict(X_test)\n",
    "    cm = confusion_matrix(y_test, y_pred)\n",
    "    tn, fp, fn, tp = confusion_matrix(y_test, y_pred).ravel()\n",
    "    print(cm)\n",
    "    print(' ')\n",
    "    print('True Positive is {}.'.format(tp))\n",
    "    print('True Negative is {}.'.format(tn))\n",
    "    print('False Positive is {}.'.format(fp))\n",
    "    print('False Negative is {}.\\n'.format(fn))\n",
    "    accuracy=round(accuracy_score(y_test, y_pred),2)\n",
    "    recall=round(recall_score(y_test,y_pred),2)\n",
    "    precision=round(precision_score(y_test,y_pred),2)\n",
    "    print('Accuracy is {}.'.format(accuracy))\n",
    "    print('Recall is {}.'.format(recall))\n",
    "    print('Precision is {}.\\n'.format(precision))"
   ]
  },
  {
   "cell_type": "code",
   "execution_count": 13,
   "id": "775812c5",
   "metadata": {},
   "outputs": [
    {
     "name": "stdout",
     "output_type": "stream",
     "text": [
      "[[672  47]\n",
      " [ 24  91]]\n",
      " \n",
      "True Positive is 91.\n",
      "True Negative is 672.\n",
      "False Positive is 47.\n",
      "False Negative is 24.\n",
      "\n",
      "Accuracy is 0.91.\n",
      "Recall is 0.79.\n",
      "Precision is 0.66.\n",
      "\n"
     ]
    }
   ],
   "source": [
    "cm_scores(dt_class)"
   ]
  },
  {
   "cell_type": "markdown",
   "id": "717f7450",
   "metadata": {},
   "source": [
    "### Visualize the importances of attributes"
   ]
  },
  {
   "cell_type": "code",
   "execution_count": 14,
   "id": "7a901f6e",
   "metadata": {},
   "outputs": [],
   "source": [
    "importance_dt=dt_class.feature_importances_"
   ]
  },
  {
   "cell_type": "code",
   "execution_count": 15,
   "id": "227df036",
   "metadata": {},
   "outputs": [],
   "source": [
    "def get_importance(importance):\n",
    "    import_df=pd.DataFrame(importance,index=X.columns)\n",
    "    state_importance=0\n",
    "    new_import_df=import_df.copy()\n",
    "    for i in import_df.index.tolist():\n",
    "        if 'State' in i:\n",
    "            state_importance+=import_df[0][i]\n",
    "            new_import_df=new_import_df.drop(i,axis=0)\n",
    "    new_import_df=new_import_df.append(pd.DataFrame([state_importance],index=['State']))\n",
    "    new_import_df=new_import_df.sort_values(by=0,ascending=False)\n",
    "    ind=new_import_df.index.tolist()\n",
    "    return ind,new_import_df"
   ]
  },
  {
   "cell_type": "code",
   "execution_count": 16,
   "id": "eea18cc9",
   "metadata": {},
   "outputs": [
    {
     "data": {
      "image/png": "[encoded data removed]",
      "text/plain": [
       "<Figure size 864x576 with 1 Axes>"
      ]
     },
     "metadata": {
      "needs_background": "light"
     },
     "output_type": "display_data"
    }
   ],
   "source": [
    "ind_dt,new_import_df_dt=get_importance(importance_dt)\n",
    "plt.bar([x for x in range(len(new_import_df_dt))], new_import_df_dt[0])\n",
    "plt.xticks([i for i in range(len(ind_dt))],ind_dt,rotation=90)\n",
    "plt.show()"
   ]
  },
  {
   "cell_type": "markdown",
   "id": "983d024e",
   "metadata": {},
   "source": [
    "# Building model using Naive Bayes"
   ]
  },
  {
   "cell_type": "markdown",
   "id": "c60a21d4",
   "metadata": {},
   "source": [
    "### Training the Naive Bayes Classification model on the Training set"
   ]
  },
  {
   "cell_type": "code",
   "execution_count": 17,
   "id": "85f31f5b",
   "metadata": {},
   "outputs": [],
   "source": [
    "def naive_bayes_class():\n",
    "    classifier = GaussianNB()\n",
    "    classifier.fit(X_train, y_train)\n",
    "    return classifier"
   ]
  },
  {
   "cell_type": "code",
   "execution_count": 18,
   "id": "36a017e0",
   "metadata": {},
   "outputs": [],
   "source": [
    "nb_class=naive_bayes_class()"
   ]
  },
  {
   "cell_type": "code",
   "execution_count": null,
   "id": "57c65f32",
   "metadata": {},
   "outputs": [],
   "source": [
    "explainer_nb_all = ClassifierExplainer(nb_class, X_test, y_test, \n",
    "                                descriptions=feature_descriptions,\n",
    "                                labels=['Not Churn', 'Churn'], \n",
    "                                cats=['State'],\n",
    "                                idxs = phone_numbers, \n",
    "                                index_name = \"Phone Number\", \n",
    "                                target = \"Churn\", \n",
    "                                )\n",
    "db_nb_all=ExplainerDashboard(explainer_nb_all, \n",
    "                        title=\"Churn Prediction by Naive Bayes\", \n",
    "                        shap_interaction=False,\n",
    "                        )\n",
    "db_nb_all.run(port=8050)"
   ]
  },
  {
   "cell_type": "markdown",
   "id": "49680ea3",
   "metadata": {},
   "source": [
    "### Making the Confusion Matrix for Naive Bayes"
   ]
  },
  {
   "cell_type": "code",
   "execution_count": 19,
   "id": "8c37206d",
   "metadata": {},
   "outputs": [
    {
     "name": "stdout",
     "output_type": "stream",
     "text": [
      "[[424 295]\n",
      " [ 49  66]]\n",
      " \n",
      "True Positive is 66.\n",
      "True Negative is 424.\n",
      "False Positive is 295.\n",
      "False Negative is 49.\n",
      "\n",
      "Accuracy is 0.59.\n",
      "Recall is 0.57.\n",
      "Precision is 0.18.\n",
      "\n"
     ]
    }
   ],
   "source": [
    "cm_scores(nb_class)"
   ]
  },
  {
   "cell_type": "markdown",
   "id": "b64d9678",
   "metadata": {},
   "source": [
    "### Visualize the importances of attributes"
   ]
  },
  {
   "cell_type": "code",
   "execution_count": 20,
   "id": "2d064b4a",
   "metadata": {},
   "outputs": [],
   "source": [
    "from sklearn.inspection import permutation_importance"
   ]
  },
  {
   "cell_type": "code",
   "execution_count": 21,
   "id": "e46cc7d0",
   "metadata": {},
   "outputs": [],
   "source": [
    "imps = permutation_importance(nb_class, X_test, y_test)\n",
    "importance_nb=imps.importances_mean"
   ]
  },
  {
   "cell_type": "code",
   "execution_count": 22,
   "id": "4ade416f",
   "metadata": {},
   "outputs": [
    {
     "data": {
      "image/png": "[encoded data removed]",
      "text/plain": [
       "<Figure size 864x576 with 1 Axes>"
      ]
     },
     "metadata": {
      "needs_background": "light"
     },
     "output_type": "display_data"
    }
   ],
   "source": [
    "ind_nb,new_import_df_nb=get_importance(importance_nb)\n",
    "plt.bar([x for x in range(len(new_import_df_nb))], new_import_df_nb[0])\n",
    "plt.xticks([i for i in range(len(ind_nb))],ind_nb,rotation=90)\n",
    "plt.show()"
   ]
  }
 ],
 "metadata": {
  "kernelspec": {
   "display_name": "Python 3",
   "language": "python",
   "name": "python3"
  },
  "language_info": {
   "codemirror_mode": {
    "name": "ipython",
    "version": 3
   },
   "file_extension": ".py",
   "mimetype": "text/x-python",
   "name": "python",
   "nbconvert_exporter": "python",
   "pygments_lexer": "ipython3",
   "version": "3.8.8"
  }
 },
 "nbformat": 4,
 "nbformat_minor": 5
}
