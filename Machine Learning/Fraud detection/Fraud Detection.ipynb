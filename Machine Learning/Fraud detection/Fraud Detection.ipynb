{
 "cells": [
  {
   "cell_type": "code",
   "execution_count": 1,
   "id": "8de8426b",
   "metadata": {},
   "outputs": [],
   "source": [
    "import pandas as pd\n",
    "import numpy as np\n",
    "import matplotlib\n",
    "import matplotlib.pyplot as plt\n",
    "import seaborn as sns\n",
    "plt.style.use('ggplot')\n",
    "\n",
    "%matplotlib inline\n",
    "matplotlib.rcParams['figure.figsize']=(12,8)"
   ]
  },
  {
   "cell_type": "code",
   "execution_count": 2,
   "id": "bfcfe96f",
   "metadata": {},
   "outputs": [],
   "source": [
    "df=pd.read_json('transactions.txt',lines=True)"
   ]
  },
  {
   "cell_type": "code",
   "execution_count": 3,
   "id": "8bad0b75",
   "metadata": {},
   "outputs": [
    {
     "data": {
      "text/html": [
       "<div>\n",
       "<style scoped>\n",
       "    .dataframe tbody tr th:only-of-type {\n",
       "        vertical-align: middle;\n",
       "    }\n",
       "\n",
       "    .dataframe tbody tr th {\n",
       "        vertical-align: top;\n",
       "    }\n",
       "\n",
       "    .dataframe thead th {\n",
       "        text-align: right;\n",
       "    }\n",
       "</style>\n",
       "<table border=\"1\" class=\"dataframe\">\n",
       "  <thead>\n",
       "    <tr style=\"text-align: right;\">\n",
       "      <th></th>\n",
       "      <th>accountNumber</th>\n",
       "      <th>customerId</th>\n",
       "      <th>creditLimit</th>\n",
       "      <th>availableMoney</th>\n",
       "      <th>transactionDateTime</th>\n",
       "      <th>transactionAmount</th>\n",
       "      <th>merchantName</th>\n",
       "      <th>acqCountry</th>\n",
       "      <th>merchantCountryCode</th>\n",
       "      <th>posEntryMode</th>\n",
       "      <th>...</th>\n",
       "      <th>echoBuffer</th>\n",
       "      <th>currentBalance</th>\n",
       "      <th>merchantCity</th>\n",
       "      <th>merchantState</th>\n",
       "      <th>merchantZip</th>\n",
       "      <th>cardPresent</th>\n",
       "      <th>posOnPremises</th>\n",
       "      <th>recurringAuthInd</th>\n",
       "      <th>expirationDateKeyInMatch</th>\n",
       "      <th>isFraud</th>\n",
       "    </tr>\n",
       "  </thead>\n",
       "  <tbody>\n",
       "    <tr>\n",
       "      <th>0</th>\n",
       "      <td>737265056</td>\n",
       "      <td>737265056</td>\n",
       "      <td>5000</td>\n",
       "      <td>5000.0</td>\n",
       "      <td>2016-08-13T14:27:32</td>\n",
       "      <td>98.55</td>\n",
       "      <td>Uber</td>\n",
       "      <td>US</td>\n",
       "      <td>US</td>\n",
       "      <td>02</td>\n",
       "      <td>...</td>\n",
       "      <td></td>\n",
       "      <td>0.0</td>\n",
       "      <td></td>\n",
       "      <td></td>\n",
       "      <td></td>\n",
       "      <td>False</td>\n",
       "      <td></td>\n",
       "      <td></td>\n",
       "      <td>False</td>\n",
       "      <td>False</td>\n",
       "    </tr>\n",
       "    <tr>\n",
       "      <th>1</th>\n",
       "      <td>737265056</td>\n",
       "      <td>737265056</td>\n",
       "      <td>5000</td>\n",
       "      <td>5000.0</td>\n",
       "      <td>2016-10-11T05:05:54</td>\n",
       "      <td>74.51</td>\n",
       "      <td>AMC #191138</td>\n",
       "      <td>US</td>\n",
       "      <td>US</td>\n",
       "      <td>09</td>\n",
       "      <td>...</td>\n",
       "      <td></td>\n",
       "      <td>0.0</td>\n",
       "      <td></td>\n",
       "      <td></td>\n",
       "      <td></td>\n",
       "      <td>True</td>\n",
       "      <td></td>\n",
       "      <td></td>\n",
       "      <td>False</td>\n",
       "      <td>False</td>\n",
       "    </tr>\n",
       "    <tr>\n",
       "      <th>2</th>\n",
       "      <td>737265056</td>\n",
       "      <td>737265056</td>\n",
       "      <td>5000</td>\n",
       "      <td>5000.0</td>\n",
       "      <td>2016-11-08T09:18:39</td>\n",
       "      <td>7.47</td>\n",
       "      <td>Play Store</td>\n",
       "      <td>US</td>\n",
       "      <td>US</td>\n",
       "      <td>09</td>\n",
       "      <td>...</td>\n",
       "      <td></td>\n",
       "      <td>0.0</td>\n",
       "      <td></td>\n",
       "      <td></td>\n",
       "      <td></td>\n",
       "      <td>False</td>\n",
       "      <td></td>\n",
       "      <td></td>\n",
       "      <td>False</td>\n",
       "      <td>False</td>\n",
       "    </tr>\n",
       "    <tr>\n",
       "      <th>3</th>\n",
       "      <td>737265056</td>\n",
       "      <td>737265056</td>\n",
       "      <td>5000</td>\n",
       "      <td>5000.0</td>\n",
       "      <td>2016-12-10T02:14:50</td>\n",
       "      <td>7.47</td>\n",
       "      <td>Play Store</td>\n",
       "      <td>US</td>\n",
       "      <td>US</td>\n",
       "      <td>09</td>\n",
       "      <td>...</td>\n",
       "      <td></td>\n",
       "      <td>0.0</td>\n",
       "      <td></td>\n",
       "      <td></td>\n",
       "      <td></td>\n",
       "      <td>False</td>\n",
       "      <td></td>\n",
       "      <td></td>\n",
       "      <td>False</td>\n",
       "      <td>False</td>\n",
       "    </tr>\n",
       "    <tr>\n",
       "      <th>4</th>\n",
       "      <td>830329091</td>\n",
       "      <td>830329091</td>\n",
       "      <td>5000</td>\n",
       "      <td>5000.0</td>\n",
       "      <td>2016-03-24T21:04:46</td>\n",
       "      <td>71.18</td>\n",
       "      <td>Tim Hortons #947751</td>\n",
       "      <td>US</td>\n",
       "      <td>US</td>\n",
       "      <td>02</td>\n",
       "      <td>...</td>\n",
       "      <td></td>\n",
       "      <td>0.0</td>\n",
       "      <td></td>\n",
       "      <td></td>\n",
       "      <td></td>\n",
       "      <td>True</td>\n",
       "      <td></td>\n",
       "      <td></td>\n",
       "      <td>False</td>\n",
       "      <td>False</td>\n",
       "    </tr>\n",
       "  </tbody>\n",
       "</table>\n",
       "<p>5 rows × 29 columns</p>\n",
       "</div>"
      ],
      "text/plain": [
       "   accountNumber  customerId  creditLimit  availableMoney  \\\n",
       "0      737265056   737265056         5000          5000.0   \n",
       "1      737265056   737265056         5000          5000.0   \n",
       "2      737265056   737265056         5000          5000.0   \n",
       "3      737265056   737265056         5000          5000.0   \n",
       "4      830329091   830329091         5000          5000.0   \n",
       "\n",
       "   transactionDateTime  transactionAmount         merchantName acqCountry  \\\n",
       "0  2016-08-13T14:27:32              98.55                 Uber         US   \n",
       "1  2016-10-11T05:05:54              74.51          AMC #191138         US   \n",
       "2  2016-11-08T09:18:39               7.47           Play Store         US   \n",
       "3  2016-12-10T02:14:50               7.47           Play Store         US   \n",
       "4  2016-03-24T21:04:46              71.18  Tim Hortons #947751         US   \n",
       "\n",
       "  merchantCountryCode posEntryMode  ... echoBuffer currentBalance  \\\n",
       "0                  US           02  ...                       0.0   \n",
       "1                  US           09  ...                       0.0   \n",
       "2                  US           09  ...                       0.0   \n",
       "3                  US           09  ...                       0.0   \n",
       "4                  US           02  ...                       0.0   \n",
       "\n",
       "  merchantCity merchantState merchantZip  cardPresent  posOnPremises  \\\n",
       "0                                               False                  \n",
       "1                                                True                  \n",
       "2                                               False                  \n",
       "3                                               False                  \n",
       "4                                                True                  \n",
       "\n",
       "   recurringAuthInd expirationDateKeyInMatch isFraud  \n",
       "0                                      False   False  \n",
       "1                                      False   False  \n",
       "2                                      False   False  \n",
       "3                                      False   False  \n",
       "4                                      False   False  \n",
       "\n",
       "[5 rows x 29 columns]"
      ]
     },
     "execution_count": 3,
     "metadata": {},
     "output_type": "execute_result"
    }
   ],
   "source": [
    "df.head()"
   ]
  },
  {
   "cell_type": "code",
   "execution_count": 4,
   "id": "28bfcaf7",
   "metadata": {},
   "outputs": [
    {
     "name": "stdout",
     "output_type": "stream",
     "text": [
      "<class 'pandas.core.frame.DataFrame'>\n",
      "RangeIndex: 786363 entries, 0 to 786362\n",
      "Data columns (total 29 columns):\n",
      " #   Column                    Non-Null Count   Dtype  \n",
      "---  ------                    --------------   -----  \n",
      " 0   accountNumber             786363 non-null  int64  \n",
      " 1   customerId                786363 non-null  int64  \n",
      " 2   creditLimit               786363 non-null  int64  \n",
      " 3   availableMoney            786363 non-null  float64\n",
      " 4   transactionDateTime       786363 non-null  object \n",
      " 5   transactionAmount         786363 non-null  float64\n",
      " 6   merchantName              786363 non-null  object \n",
      " 7   acqCountry                786363 non-null  object \n",
      " 8   merchantCountryCode       786363 non-null  object \n",
      " 9   posEntryMode              786363 non-null  object \n",
      " 10  posConditionCode          786363 non-null  object \n",
      " 11  merchantCategoryCode      786363 non-null  object \n",
      " 12  currentExpDate            786363 non-null  object \n",
      " 13  accountOpenDate           786363 non-null  object \n",
      " 14  dateOfLastAddressChange   786363 non-null  object \n",
      " 15  cardCVV                   786363 non-null  int64  \n",
      " 16  enteredCVV                786363 non-null  int64  \n",
      " 17  cardLast4Digits           786363 non-null  int64  \n",
      " 18  transactionType           786363 non-null  object \n",
      " 19  echoBuffer                786363 non-null  object \n",
      " 20  currentBalance            786363 non-null  float64\n",
      " 21  merchantCity              786363 non-null  object \n",
      " 22  merchantState             786363 non-null  object \n",
      " 23  merchantZip               786363 non-null  object \n",
      " 24  cardPresent               786363 non-null  bool   \n",
      " 25  posOnPremises             786363 non-null  object \n",
      " 26  recurringAuthInd          786363 non-null  object \n",
      " 27  expirationDateKeyInMatch  786363 non-null  bool   \n",
      " 28  isFraud                   786363 non-null  bool   \n",
      "dtypes: bool(3), float64(3), int64(6), object(17)\n",
      "memory usage: 158.2+ MB\n"
     ]
    }
   ],
   "source": [
    "df.info()"
   ]
  },
  {
   "cell_type": "markdown",
   "id": "35c64eb2",
   "metadata": {},
   "source": [
    "### Only some columns considered as features"
   ]
  },
  {
   "cell_type": "code",
   "execution_count": 5,
   "id": "9fb53a66",
   "metadata": {},
   "outputs": [],
   "source": [
    "use_cols=['creditLimit','availableMoney','transactionAmount','acqCountry','currentBalance','cardPresent','expirationDateKeyInMatch']"
   ]
  },
  {
   "cell_type": "code",
   "execution_count": 6,
   "id": "6ee5ee23",
   "metadata": {},
   "outputs": [],
   "source": [
    "df_new=df[use_cols]"
   ]
  },
  {
   "cell_type": "code",
   "execution_count": 7,
   "id": "951f959b",
   "metadata": {},
   "outputs": [
    {
     "name": "stdout",
     "output_type": "stream",
     "text": [
      "<class 'pandas.core.frame.DataFrame'>\n",
      "RangeIndex: 786363 entries, 0 to 786362\n",
      "Data columns (total 7 columns):\n",
      " #   Column                    Non-Null Count   Dtype  \n",
      "---  ------                    --------------   -----  \n",
      " 0   creditLimit               786363 non-null  int64  \n",
      " 1   availableMoney            786363 non-null  float64\n",
      " 2   transactionAmount         786363 non-null  float64\n",
      " 3   acqCountry                786363 non-null  object \n",
      " 4   currentBalance            786363 non-null  float64\n",
      " 5   cardPresent               786363 non-null  bool   \n",
      " 6   expirationDateKeyInMatch  786363 non-null  bool   \n",
      "dtypes: bool(2), float64(3), int64(1), object(1)\n",
      "memory usage: 31.5+ MB\n"
     ]
    }
   ],
   "source": [
    "df_new.info()"
   ]
  },
  {
   "cell_type": "markdown",
   "id": "e8df623c",
   "metadata": {},
   "source": [
    "## There one object type feature and two boolen type features. Need to be transformed"
   ]
  },
  {
   "cell_type": "markdown",
   "id": "bd1c413b",
   "metadata": {},
   "source": [
    "### Transform boolen features as 1 and 0, reflecting to True and False respectively"
   ]
  },
  {
   "cell_type": "code",
   "execution_count": 8,
   "id": "b86ef772",
   "metadata": {},
   "outputs": [
    {
     "name": "stderr",
     "output_type": "stream",
     "text": [
      "<ipython-input-8-810ff291b266>:1: SettingWithCopyWarning: \n",
      "A value is trying to be set on a copy of a slice from a DataFrame.\n",
      "Try using .loc[row_indexer,col_indexer] = value instead\n",
      "\n",
      "See the caveats in the documentation: https://pandas.pydata.org/pandas-docs/stable/user_guide/indexing.html#returning-a-view-versus-a-copy\n",
      "  df_new['cardPresent']=df_new['cardPresent'].apply(lambda x:1 if x==True else 0)\n",
      "<ipython-input-8-810ff291b266>:2: SettingWithCopyWarning: \n",
      "A value is trying to be set on a copy of a slice from a DataFrame.\n",
      "Try using .loc[row_indexer,col_indexer] = value instead\n",
      "\n",
      "See the caveats in the documentation: https://pandas.pydata.org/pandas-docs/stable/user_guide/indexing.html#returning-a-view-versus-a-copy\n",
      "  df_new['expirationDateKeyInMatch']=df_new['expirationDateKeyInMatch'].apply(lambda x:1 if x==True else 0)\n"
     ]
    }
   ],
   "source": [
    "df_new['cardPresent']=df_new['cardPresent'].apply(lambda x:1 if x==True else 0)\n",
    "df_new['expirationDateKeyInMatch']=df_new['expirationDateKeyInMatch'].apply(lambda x:1 if x==True else 0)"
   ]
  },
  {
   "cell_type": "code",
   "execution_count": 9,
   "id": "287f44d5",
   "metadata": {},
   "outputs": [
    {
     "name": "stdout",
     "output_type": "stream",
     "text": [
      "<class 'pandas.core.frame.DataFrame'>\n",
      "RangeIndex: 786363 entries, 0 to 786362\n",
      "Data columns (total 7 columns):\n",
      " #   Column                    Non-Null Count   Dtype  \n",
      "---  ------                    --------------   -----  \n",
      " 0   creditLimit               786363 non-null  int64  \n",
      " 1   availableMoney            786363 non-null  float64\n",
      " 2   transactionAmount         786363 non-null  float64\n",
      " 3   acqCountry                786363 non-null  object \n",
      " 4   currentBalance            786363 non-null  float64\n",
      " 5   cardPresent               786363 non-null  int64  \n",
      " 6   expirationDateKeyInMatch  786363 non-null  int64  \n",
      "dtypes: float64(3), int64(3), object(1)\n",
      "memory usage: 42.0+ MB\n"
     ]
    }
   ],
   "source": [
    "df_new.info()"
   ]
  },
  {
   "cell_type": "markdown",
   "id": "ec1c6a9c",
   "metadata": {},
   "source": [
    "### Transform object column as numeric using OneHotEncoder"
   ]
  },
  {
   "cell_type": "code",
   "execution_count": 10,
   "id": "89a16ac4",
   "metadata": {},
   "outputs": [
    {
     "data": {
      "text/plain": [
       "array(['US', '', 'CAN', 'MEX', 'PR'], dtype=object)"
      ]
     },
     "execution_count": 10,
     "metadata": {},
     "output_type": "execute_result"
    }
   ],
   "source": [
    "df_new['acqCountry'].unique()"
   ]
  },
  {
   "cell_type": "markdown",
   "id": "de12ccda",
   "metadata": {},
   "source": [
    "### A null value here, turn it to be \"Unknown\""
   ]
  },
  {
   "cell_type": "code",
   "execution_count": 11,
   "id": "a9e218ea",
   "metadata": {},
   "outputs": [
    {
     "name": "stderr",
     "output_type": "stream",
     "text": [
      "<ipython-input-11-74d12a03ba5c>:1: SettingWithCopyWarning: \n",
      "A value is trying to be set on a copy of a slice from a DataFrame.\n",
      "Try using .loc[row_indexer,col_indexer] = value instead\n",
      "\n",
      "See the caveats in the documentation: https://pandas.pydata.org/pandas-docs/stable/user_guide/indexing.html#returning-a-view-versus-a-copy\n",
      "  df_new['acqCountry']=df_new['acqCountry'].apply(lambda x:'UNKNOWN' if len(x)==0 else x)\n"
     ]
    }
   ],
   "source": [
    "df_new['acqCountry']=df_new['acqCountry'].apply(lambda x:'UNKNOWN' if len(x)==0 else x)"
   ]
  },
  {
   "cell_type": "code",
   "execution_count": 12,
   "id": "da7c2df6",
   "metadata": {},
   "outputs": [
    {
     "data": {
      "text/plain": [
       "array(['US', 'UNKNOWN', 'CAN', 'MEX', 'PR'], dtype=object)"
      ]
     },
     "execution_count": 12,
     "metadata": {},
     "output_type": "execute_result"
    }
   ],
   "source": [
    "df_new['acqCountry'].unique()"
   ]
  },
  {
   "cell_type": "code",
   "execution_count": 13,
   "id": "d35c3b46",
   "metadata": {},
   "outputs": [],
   "source": [
    "from sklearn.preprocessing import OneHotEncoder\n",
    "ohe=OneHotEncoder(handle_unknown='ignore',sparse=False)\n",
    "ohe_cols=pd.DataFrame(ohe.fit_transform(np.array(df_new['acqCountry']).reshape(-1,1)))"
   ]
  },
  {
   "cell_type": "code",
   "execution_count": 14,
   "id": "cd6fe950",
   "metadata": {},
   "outputs": [],
   "source": [
    "ohe_cols.columns=sorted(list(df_new['acqCountry'].unique()))"
   ]
  },
  {
   "cell_type": "code",
   "execution_count": 15,
   "id": "09a42589",
   "metadata": {},
   "outputs": [
    {
     "data": {
      "text/html": [
       "<div>\n",
       "<style scoped>\n",
       "    .dataframe tbody tr th:only-of-type {\n",
       "        vertical-align: middle;\n",
       "    }\n",
       "\n",
       "    .dataframe tbody tr th {\n",
       "        vertical-align: top;\n",
       "    }\n",
       "\n",
       "    .dataframe thead th {\n",
       "        text-align: right;\n",
       "    }\n",
       "</style>\n",
       "<table border=\"1\" class=\"dataframe\">\n",
       "  <thead>\n",
       "    <tr style=\"text-align: right;\">\n",
       "      <th></th>\n",
       "      <th>CAN</th>\n",
       "      <th>MEX</th>\n",
       "      <th>PR</th>\n",
       "      <th>UNKNOWN</th>\n",
       "      <th>US</th>\n",
       "    </tr>\n",
       "  </thead>\n",
       "  <tbody>\n",
       "    <tr>\n",
       "      <th>0</th>\n",
       "      <td>0.0</td>\n",
       "      <td>0.0</td>\n",
       "      <td>0.0</td>\n",
       "      <td>0.0</td>\n",
       "      <td>1.0</td>\n",
       "    </tr>\n",
       "    <tr>\n",
       "      <th>1</th>\n",
       "      <td>0.0</td>\n",
       "      <td>0.0</td>\n",
       "      <td>0.0</td>\n",
       "      <td>0.0</td>\n",
       "      <td>1.0</td>\n",
       "    </tr>\n",
       "    <tr>\n",
       "      <th>2</th>\n",
       "      <td>0.0</td>\n",
       "      <td>0.0</td>\n",
       "      <td>0.0</td>\n",
       "      <td>0.0</td>\n",
       "      <td>1.0</td>\n",
       "    </tr>\n",
       "    <tr>\n",
       "      <th>3</th>\n",
       "      <td>0.0</td>\n",
       "      <td>0.0</td>\n",
       "      <td>0.0</td>\n",
       "      <td>0.0</td>\n",
       "      <td>1.0</td>\n",
       "    </tr>\n",
       "    <tr>\n",
       "      <th>4</th>\n",
       "      <td>0.0</td>\n",
       "      <td>0.0</td>\n",
       "      <td>0.0</td>\n",
       "      <td>0.0</td>\n",
       "      <td>1.0</td>\n",
       "    </tr>\n",
       "    <tr>\n",
       "      <th>...</th>\n",
       "      <td>...</td>\n",
       "      <td>...</td>\n",
       "      <td>...</td>\n",
       "      <td>...</td>\n",
       "      <td>...</td>\n",
       "    </tr>\n",
       "    <tr>\n",
       "      <th>786358</th>\n",
       "      <td>0.0</td>\n",
       "      <td>0.0</td>\n",
       "      <td>0.0</td>\n",
       "      <td>0.0</td>\n",
       "      <td>1.0</td>\n",
       "    </tr>\n",
       "    <tr>\n",
       "      <th>786359</th>\n",
       "      <td>0.0</td>\n",
       "      <td>0.0</td>\n",
       "      <td>0.0</td>\n",
       "      <td>0.0</td>\n",
       "      <td>1.0</td>\n",
       "    </tr>\n",
       "    <tr>\n",
       "      <th>786360</th>\n",
       "      <td>0.0</td>\n",
       "      <td>0.0</td>\n",
       "      <td>0.0</td>\n",
       "      <td>0.0</td>\n",
       "      <td>1.0</td>\n",
       "    </tr>\n",
       "    <tr>\n",
       "      <th>786361</th>\n",
       "      <td>0.0</td>\n",
       "      <td>0.0</td>\n",
       "      <td>0.0</td>\n",
       "      <td>0.0</td>\n",
       "      <td>1.0</td>\n",
       "    </tr>\n",
       "    <tr>\n",
       "      <th>786362</th>\n",
       "      <td>0.0</td>\n",
       "      <td>0.0</td>\n",
       "      <td>0.0</td>\n",
       "      <td>0.0</td>\n",
       "      <td>1.0</td>\n",
       "    </tr>\n",
       "  </tbody>\n",
       "</table>\n",
       "<p>786363 rows × 5 columns</p>\n",
       "</div>"
      ],
      "text/plain": [
       "        CAN  MEX   PR  UNKNOWN   US\n",
       "0       0.0  0.0  0.0      0.0  1.0\n",
       "1       0.0  0.0  0.0      0.0  1.0\n",
       "2       0.0  0.0  0.0      0.0  1.0\n",
       "3       0.0  0.0  0.0      0.0  1.0\n",
       "4       0.0  0.0  0.0      0.0  1.0\n",
       "...     ...  ...  ...      ...  ...\n",
       "786358  0.0  0.0  0.0      0.0  1.0\n",
       "786359  0.0  0.0  0.0      0.0  1.0\n",
       "786360  0.0  0.0  0.0      0.0  1.0\n",
       "786361  0.0  0.0  0.0      0.0  1.0\n",
       "786362  0.0  0.0  0.0      0.0  1.0\n",
       "\n",
       "[786363 rows x 5 columns]"
      ]
     },
     "execution_count": 15,
     "metadata": {},
     "output_type": "execute_result"
    }
   ],
   "source": [
    "ohe_cols"
   ]
  },
  {
   "cell_type": "markdown",
   "id": "0fd57035",
   "metadata": {},
   "source": [
    "### Drop the object column and concat the new numeric columns"
   ]
  },
  {
   "cell_type": "code",
   "execution_count": 16,
   "id": "fc5fa154",
   "metadata": {},
   "outputs": [
    {
     "name": "stderr",
     "output_type": "stream",
     "text": [
      "C:\\ProgramData\\Anaconda3\\lib\\site-packages\\pandas\\core\\frame.py:4308: SettingWithCopyWarning: \n",
      "A value is trying to be set on a copy of a slice from a DataFrame\n",
      "\n",
      "See the caveats in the documentation: https://pandas.pydata.org/pandas-docs/stable/user_guide/indexing.html#returning-a-view-versus-a-copy\n",
      "  return super().drop(\n"
     ]
    }
   ],
   "source": [
    "df_new.drop('acqCountry',axis=1,inplace=True)"
   ]
  },
  {
   "cell_type": "code",
   "execution_count": 17,
   "id": "06a59968",
   "metadata": {},
   "outputs": [],
   "source": [
    "df_new=pd.concat([df_new,ohe_cols],axis=1)"
   ]
  },
  {
   "cell_type": "code",
   "execution_count": 18,
   "id": "5e545173",
   "metadata": {},
   "outputs": [],
   "source": [
    "df_new=pd.concat([df_new,df['isFraud']],axis=1)"
   ]
  },
  {
   "cell_type": "code",
   "execution_count": 19,
   "id": "79b00ba0",
   "metadata": {},
   "outputs": [],
   "source": [
    "df_new['isFraud']=df_new['isFraud'].apply(lambda x:1 if x==True else 0)"
   ]
  },
  {
   "cell_type": "code",
   "execution_count": 20,
   "id": "f4e4b1ee",
   "metadata": {},
   "outputs": [
    {
     "data": {
      "text/html": [
       "<div>\n",
       "<style scoped>\n",
       "    .dataframe tbody tr th:only-of-type {\n",
       "        vertical-align: middle;\n",
       "    }\n",
       "\n",
       "    .dataframe tbody tr th {\n",
       "        vertical-align: top;\n",
       "    }\n",
       "\n",
       "    .dataframe thead th {\n",
       "        text-align: right;\n",
       "    }\n",
       "</style>\n",
       "<table border=\"1\" class=\"dataframe\">\n",
       "  <thead>\n",
       "    <tr style=\"text-align: right;\">\n",
       "      <th></th>\n",
       "      <th>creditLimit</th>\n",
       "      <th>availableMoney</th>\n",
       "      <th>transactionAmount</th>\n",
       "      <th>currentBalance</th>\n",
       "      <th>cardPresent</th>\n",
       "      <th>expirationDateKeyInMatch</th>\n",
       "      <th>CAN</th>\n",
       "      <th>MEX</th>\n",
       "      <th>PR</th>\n",
       "      <th>UNKNOWN</th>\n",
       "      <th>US</th>\n",
       "      <th>isFraud</th>\n",
       "    </tr>\n",
       "  </thead>\n",
       "  <tbody>\n",
       "    <tr>\n",
       "      <th>creditLimit</th>\n",
       "      <td>1.000000</td>\n",
       "      <td>0.834977</td>\n",
       "      <td>0.005581</td>\n",
       "      <td>0.653652</td>\n",
       "      <td>-0.003929</td>\n",
       "      <td>0.002391</td>\n",
       "      <td>0.000341</td>\n",
       "      <td>-0.001773</td>\n",
       "      <td>-0.001038</td>\n",
       "      <td>0.000548</td>\n",
       "      <td>0.000803</td>\n",
       "      <td>0.003108</td>\n",
       "    </tr>\n",
       "    <tr>\n",
       "      <th>availableMoney</th>\n",
       "      <td>0.834977</td>\n",
       "      <td>1.000000</td>\n",
       "      <td>-0.010070</td>\n",
       "      <td>0.129332</td>\n",
       "      <td>0.002508</td>\n",
       "      <td>0.004067</td>\n",
       "      <td>0.000955</td>\n",
       "      <td>-0.002024</td>\n",
       "      <td>-0.001865</td>\n",
       "      <td>0.000483</td>\n",
       "      <td>0.000995</td>\n",
       "      <td>-0.001538</td>\n",
       "    </tr>\n",
       "    <tr>\n",
       "      <th>transactionAmount</th>\n",
       "      <td>0.005581</td>\n",
       "      <td>-0.010070</td>\n",
       "      <td>1.000000</td>\n",
       "      <td>0.023905</td>\n",
       "      <td>0.037361</td>\n",
       "      <td>0.001751</td>\n",
       "      <td>0.000324</td>\n",
       "      <td>0.000378</td>\n",
       "      <td>-0.000654</td>\n",
       "      <td>0.000565</td>\n",
       "      <td>-0.000462</td>\n",
       "      <td>0.075651</td>\n",
       "    </tr>\n",
       "    <tr>\n",
       "      <th>currentBalance</th>\n",
       "      <td>0.653652</td>\n",
       "      <td>0.129332</td>\n",
       "      <td>0.023905</td>\n",
       "      <td>1.000000</td>\n",
       "      <td>-0.010529</td>\n",
       "      <td>-0.001285</td>\n",
       "      <td>-0.000699</td>\n",
       "      <td>-0.000411</td>\n",
       "      <td>0.000695</td>\n",
       "      <td>0.000323</td>\n",
       "      <td>0.000077</td>\n",
       "      <td>0.007715</td>\n",
       "    </tr>\n",
       "    <tr>\n",
       "      <th>cardPresent</th>\n",
       "      <td>-0.003929</td>\n",
       "      <td>0.002508</td>\n",
       "      <td>0.037361</td>\n",
       "      <td>-0.010529</td>\n",
       "      <td>1.000000</td>\n",
       "      <td>0.040393</td>\n",
       "      <td>-0.002248</td>\n",
       "      <td>-0.002864</td>\n",
       "      <td>-0.000298</td>\n",
       "      <td>-0.000206</td>\n",
       "      <td>0.002762</td>\n",
       "      <td>-0.043418</td>\n",
       "    </tr>\n",
       "    <tr>\n",
       "      <th>expirationDateKeyInMatch</th>\n",
       "      <td>0.002391</td>\n",
       "      <td>0.004067</td>\n",
       "      <td>0.001751</td>\n",
       "      <td>-0.001285</td>\n",
       "      <td>0.040393</td>\n",
       "      <td>1.000000</td>\n",
       "      <td>-0.000766</td>\n",
       "      <td>-0.001194</td>\n",
       "      <td>-0.000822</td>\n",
       "      <td>0.002737</td>\n",
       "      <td>-0.000446</td>\n",
       "      <td>-0.000972</td>\n",
       "    </tr>\n",
       "    <tr>\n",
       "      <th>CAN</th>\n",
       "      <td>0.000341</td>\n",
       "      <td>0.000955</td>\n",
       "      <td>0.000324</td>\n",
       "      <td>-0.000699</td>\n",
       "      <td>-0.002248</td>\n",
       "      <td>-0.000766</td>\n",
       "      <td>1.000000</td>\n",
       "      <td>-0.003515</td>\n",
       "      <td>-0.002462</td>\n",
       "      <td>-0.004248</td>\n",
       "      <td>-0.453374</td>\n",
       "      <td>0.003077</td>\n",
       "    </tr>\n",
       "    <tr>\n",
       "      <th>MEX</th>\n",
       "      <td>-0.001773</td>\n",
       "      <td>-0.002024</td>\n",
       "      <td>0.000378</td>\n",
       "      <td>-0.000411</td>\n",
       "      <td>-0.002864</td>\n",
       "      <td>-0.001194</td>\n",
       "      <td>-0.003515</td>\n",
       "      <td>1.000000</td>\n",
       "      <td>-0.002798</td>\n",
       "      <td>-0.004829</td>\n",
       "      <td>-0.515417</td>\n",
       "      <td>0.002361</td>\n",
       "    </tr>\n",
       "    <tr>\n",
       "      <th>PR</th>\n",
       "      <td>-0.001038</td>\n",
       "      <td>-0.001865</td>\n",
       "      <td>-0.000654</td>\n",
       "      <td>0.000695</td>\n",
       "      <td>-0.000298</td>\n",
       "      <td>-0.000822</td>\n",
       "      <td>-0.002462</td>\n",
       "      <td>-0.002798</td>\n",
       "      <td>1.000000</td>\n",
       "      <td>-0.003382</td>\n",
       "      <td>-0.360930</td>\n",
       "      <td>0.000627</td>\n",
       "    </tr>\n",
       "    <tr>\n",
       "      <th>UNKNOWN</th>\n",
       "      <td>0.000548</td>\n",
       "      <td>0.000483</td>\n",
       "      <td>0.000565</td>\n",
       "      <td>0.000323</td>\n",
       "      <td>-0.000206</td>\n",
       "      <td>0.002737</td>\n",
       "      <td>-0.004248</td>\n",
       "      <td>-0.004829</td>\n",
       "      <td>-0.003382</td>\n",
       "      <td>1.000000</td>\n",
       "      <td>-0.622818</td>\n",
       "      <td>0.010338</td>\n",
       "    </tr>\n",
       "    <tr>\n",
       "      <th>US</th>\n",
       "      <td>0.000803</td>\n",
       "      <td>0.000995</td>\n",
       "      <td>-0.000462</td>\n",
       "      <td>0.000077</td>\n",
       "      <td>0.002762</td>\n",
       "      <td>-0.000446</td>\n",
       "      <td>-0.453374</td>\n",
       "      <td>-0.515417</td>\n",
       "      <td>-0.360930</td>\n",
       "      <td>-0.622818</td>\n",
       "      <td>1.000000</td>\n",
       "      <td>-0.009369</td>\n",
       "    </tr>\n",
       "    <tr>\n",
       "      <th>isFraud</th>\n",
       "      <td>0.003108</td>\n",
       "      <td>-0.001538</td>\n",
       "      <td>0.075651</td>\n",
       "      <td>0.007715</td>\n",
       "      <td>-0.043418</td>\n",
       "      <td>-0.000972</td>\n",
       "      <td>0.003077</td>\n",
       "      <td>0.002361</td>\n",
       "      <td>0.000627</td>\n",
       "      <td>0.010338</td>\n",
       "      <td>-0.009369</td>\n",
       "      <td>1.000000</td>\n",
       "    </tr>\n",
       "  </tbody>\n",
       "</table>\n",
       "</div>"
      ],
      "text/plain": [
       "                          creditLimit  availableMoney  transactionAmount  \\\n",
       "creditLimit                  1.000000        0.834977           0.005581   \n",
       "availableMoney               0.834977        1.000000          -0.010070   \n",
       "transactionAmount            0.005581       -0.010070           1.000000   \n",
       "currentBalance               0.653652        0.129332           0.023905   \n",
       "cardPresent                 -0.003929        0.002508           0.037361   \n",
       "expirationDateKeyInMatch     0.002391        0.004067           0.001751   \n",
       "CAN                          0.000341        0.000955           0.000324   \n",
       "MEX                         -0.001773       -0.002024           0.000378   \n",
       "PR                          -0.001038       -0.001865          -0.000654   \n",
       "UNKNOWN                      0.000548        0.000483           0.000565   \n",
       "US                           0.000803        0.000995          -0.000462   \n",
       "isFraud                      0.003108       -0.001538           0.075651   \n",
       "\n",
       "                          currentBalance  cardPresent  \\\n",
       "creditLimit                     0.653652    -0.003929   \n",
       "availableMoney                  0.129332     0.002508   \n",
       "transactionAmount               0.023905     0.037361   \n",
       "currentBalance                  1.000000    -0.010529   \n",
       "cardPresent                    -0.010529     1.000000   \n",
       "expirationDateKeyInMatch       -0.001285     0.040393   \n",
       "CAN                            -0.000699    -0.002248   \n",
       "MEX                            -0.000411    -0.002864   \n",
       "PR                              0.000695    -0.000298   \n",
       "UNKNOWN                         0.000323    -0.000206   \n",
       "US                              0.000077     0.002762   \n",
       "isFraud                         0.007715    -0.043418   \n",
       "\n",
       "                          expirationDateKeyInMatch       CAN       MEX  \\\n",
       "creditLimit                               0.002391  0.000341 -0.001773   \n",
       "availableMoney                            0.004067  0.000955 -0.002024   \n",
       "transactionAmount                         0.001751  0.000324  0.000378   \n",
       "currentBalance                           -0.001285 -0.000699 -0.000411   \n",
       "cardPresent                               0.040393 -0.002248 -0.002864   \n",
       "expirationDateKeyInMatch                  1.000000 -0.000766 -0.001194   \n",
       "CAN                                      -0.000766  1.000000 -0.003515   \n",
       "MEX                                      -0.001194 -0.003515  1.000000   \n",
       "PR                                       -0.000822 -0.002462 -0.002798   \n",
       "UNKNOWN                                   0.002737 -0.004248 -0.004829   \n",
       "US                                       -0.000446 -0.453374 -0.515417   \n",
       "isFraud                                  -0.000972  0.003077  0.002361   \n",
       "\n",
       "                                PR   UNKNOWN        US   isFraud  \n",
       "creditLimit              -0.001038  0.000548  0.000803  0.003108  \n",
       "availableMoney           -0.001865  0.000483  0.000995 -0.001538  \n",
       "transactionAmount        -0.000654  0.000565 -0.000462  0.075651  \n",
       "currentBalance            0.000695  0.000323  0.000077  0.007715  \n",
       "cardPresent              -0.000298 -0.000206  0.002762 -0.043418  \n",
       "expirationDateKeyInMatch -0.000822  0.002737 -0.000446 -0.000972  \n",
       "CAN                      -0.002462 -0.004248 -0.453374  0.003077  \n",
       "MEX                      -0.002798 -0.004829 -0.515417  0.002361  \n",
       "PR                        1.000000 -0.003382 -0.360930  0.000627  \n",
       "UNKNOWN                  -0.003382  1.000000 -0.622818  0.010338  \n",
       "US                       -0.360930 -0.622818  1.000000 -0.009369  \n",
       "isFraud                   0.000627  0.010338 -0.009369  1.000000  "
      ]
     },
     "execution_count": 20,
     "metadata": {},
     "output_type": "execute_result"
    }
   ],
   "source": [
    "df_new.corr()"
   ]
  },
  {
   "cell_type": "code",
   "execution_count": 21,
   "id": "164f7a4a",
   "metadata": {},
   "outputs": [
    {
     "data": {
      "text/plain": [
       "Text(0.5, 1.0, 'Correlation Matric for related features')"
      ]
     },
     "execution_count": 21,
     "metadata": {},
     "output_type": "execute_result"
    },
    {
     "data": {
      "image/png": "[encoded data removed]",
      "text/plain": [
       "<Figure size 864x576 with 2 Axes>"
      ]
     },
     "metadata": {
      "needs_background": "light"
     },
     "output_type": "display_data"
    }
   ],
   "source": [
    "sns.heatmap(df_new.corr(),annot=True)\n",
    "plt.title('Correlation Matric for related features')"
   ]
  },
  {
   "cell_type": "markdown",
   "id": "b319a32f",
   "metadata": {},
   "source": [
    "### The heatmap shows there is no outstanding correlationship to the metric. So use them all."
   ]
  },
  {
   "cell_type": "code",
   "execution_count": 22,
   "id": "be33f078",
   "metadata": {},
   "outputs": [],
   "source": [
    "from sklearn.model_selection import train_test_split\n",
    "from sklearn.preprocessing import StandardScaler\n",
    "from sklearn.linear_model import LogisticRegression\n",
    "from sklearn.metrics import accuracy_score"
   ]
  },
  {
   "cell_type": "code",
   "execution_count": 23,
   "id": "4b093fff",
   "metadata": {},
   "outputs": [],
   "source": [
    "X=df_new.iloc[:,:-1].values\n",
    "y=df_new.iloc[:,-1].values\n",
    "X_train,X_test,y_train,y_test=train_test_split(X,y,test_size=0.4,random_state=0)"
   ]
  },
  {
   "cell_type": "code",
   "execution_count": 24,
   "id": "d276ae80",
   "metadata": {},
   "outputs": [],
   "source": [
    "sc=StandardScaler()\n",
    "X_train=sc.fit_transform(X_train)\n",
    "X_test=sc.transform(X_test)"
   ]
  },
  {
   "cell_type": "code",
   "execution_count": 25,
   "id": "973e6b00",
   "metadata": {},
   "outputs": [],
   "source": [
    "lr=LogisticRegression(random_state=0)"
   ]
  },
  {
   "cell_type": "code",
   "execution_count": 26,
   "id": "8560fb66",
   "metadata": {},
   "outputs": [
    {
     "data": {
      "text/plain": [
       "LogisticRegression(random_state=0)"
      ]
     },
     "execution_count": 26,
     "metadata": {},
     "output_type": "execute_result"
    }
   ],
   "source": [
    "lr.fit(X_train,y_train)"
   ]
  },
  {
   "cell_type": "code",
   "execution_count": 28,
   "id": "bac3352b",
   "metadata": {},
   "outputs": [],
   "source": [
    "y_pred=lr.predict(X_test)"
   ]
  },
  {
   "cell_type": "code",
   "execution_count": 30,
   "id": "d139c076",
   "metadata": {},
   "outputs": [],
   "source": [
    "acc=accuracy_score(y_test,y_pred)"
   ]
  },
  {
   "cell_type": "code",
   "execution_count": 31,
   "id": "64857943",
   "metadata": {},
   "outputs": [
    {
     "name": "stdout",
     "output_type": "stream",
     "text": [
      "The accuracy of this model is: 98.44%\n"
     ]
    }
   ],
   "source": [
    "print('The accuracy of this model is: {:.2f}%'.format(acc*100))"
   ]
  },
  {
   "cell_type": "markdown",
   "id": "31027c70",
   "metadata": {},
   "source": [
    "### It shows this model is excellent."
   ]
  },
  {
   "cell_type": "code",
   "execution_count": null,
   "id": "8f1414bb",
   "metadata": {},
   "outputs": [],
   "source": []
  }
 ],
 "metadata": {
  "kernelspec": {
   "display_name": "Python 3",
   "language": "python",
   "name": "python3"
  },
  "language_info": {
   "codemirror_mode": {
    "name": "ipython",
    "version": 3
   },
   "file_extension": ".py",
   "mimetype": "text/x-python",
   "name": "python",
   "nbconvert_exporter": "python",
   "pygments_lexer": "ipython3",
   "version": "3.8.8"
  }
 },
 "nbformat": 4,
 "nbformat_minor": 5
}
