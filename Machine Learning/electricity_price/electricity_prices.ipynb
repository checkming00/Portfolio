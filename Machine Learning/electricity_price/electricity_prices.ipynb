{
 "cells": [
  {
   "cell_type": "code",
   "execution_count": 1,
   "id": "00616468",
   "metadata": {},
   "outputs": [],
   "source": [
    "import pandas as pd\n",
    "import numpy as np\n",
    "import matplotlib\n",
    "import matplotlib.pyplot as plt\n",
    "plt.style.use('ggplot')\n",
    "\n",
    "%matplotlib inline\n",
    "matplotlib.rcParams['figure.figsize']=(12,8)"
   ]
  },
  {
   "cell_type": "markdown",
   "id": "ae51b437",
   "metadata": {},
   "source": [
    "## Column Description\n",
    "<B>DateTime: </B>String, defines date and time of sample<br/> \n",
    "<B>Holiday: </B>String, gives name of holiday if day is a bank holiday<br/>\n",
    "<B>HolidayFlag: </B>integer, 1 if day is a bank holiday, zero otherwise<br/>\n",
    "<B>DayOfWeek: </B>integer (0-6), 0 monday, day of week<br/>\n",
    "<B>WeekOfYear: </B>integer, running week within year of this date<br/>\n",
    "<B>Day integer: </B>day of the date<br/>\n",
    "<B>Month integer: </B>month of the date<br/>\n",
    "<B>Year integer: </B>year of the date<br/>\n",
    "<B>PeriodOfDay integer: </B>denotes half hour period of day (0-47)<br/>\n",
    "<B>ForecastWindProduction: </B>the forecasted wind production for this period<br/>\n",
    "<B>SystemLoadEA: </B>the national load forecast for this period<br/>\n",
    "<B>SMPEA: </B>the price forecast for this period<br/>\n",
    "<B>ORKTemperature: </B>the actual temperature measured at Cork airport<br/>\n",
    "<B>ORKWindspeed: </B>the actual windspeed measured at Cork airport<br/>\n",
    "<B>CO2Intensity: </B>the actual CO2 intensity in (g/kWh) for the electricity produced<br/>\n",
    "<B>ActualWindProduction: </B>the actual wind energy production for this period<br/>\n",
    "<B>SystemLoadEP2: </B>the actual national system load for this period<br/>\n",
    "<B>SMPEP2: </B>the actual price of this time period, the value to be forecasted"
   ]
  },
  {
   "cell_type": "code",
   "execution_count": 2,
   "id": "64db3ac6",
   "metadata": {},
   "outputs": [
    {
     "name": "stderr",
     "output_type": "stream",
     "text": [
      "C:\\ProgramData\\Anaconda3\\lib\\site-packages\\IPython\\core\\interactiveshell.py:3165: DtypeWarning: Columns (9,10,11,14,15,16,17) have mixed types.Specify dtype option on import or set low_memory=False.\n",
      "  has_raised = await self.run_ast_nodes(code_ast.body, cell_name,\n"
     ]
    }
   ],
   "source": [
    "df=pd.read_csv('electricity_prices.csv')"
   ]
  },
  {
   "cell_type": "code",
   "execution_count": 3,
   "id": "d526d654",
   "metadata": {},
   "outputs": [
    {
     "name": "stdout",
     "output_type": "stream",
     "text": [
      "<class 'pandas.core.frame.DataFrame'>\n",
      "RangeIndex: 38014 entries, 0 to 38013\n",
      "Data columns (total 18 columns):\n",
      " #   Column                  Non-Null Count  Dtype \n",
      "---  ------                  --------------  ----- \n",
      " 0   DateTime                38014 non-null  object\n",
      " 1   Holiday                 38014 non-null  object\n",
      " 2   HolidayFlag             38014 non-null  int64 \n",
      " 3   DayOfWeek               38014 non-null  int64 \n",
      " 4   WeekOfYear              38014 non-null  int64 \n",
      " 5   Day                     38014 non-null  int64 \n",
      " 6   Month                   38014 non-null  int64 \n",
      " 7   Year                    38014 non-null  int64 \n",
      " 8   PeriodOfDay             38014 non-null  int64 \n",
      " 9   ForecastWindProduction  38014 non-null  object\n",
      " 10  SystemLoadEA            38014 non-null  object\n",
      " 11  SMPEA                   38014 non-null  object\n",
      " 12  ORKTemperature          38014 non-null  object\n",
      " 13  ORKWindspeed            38014 non-null  object\n",
      " 14  CO2Intensity            38014 non-null  object\n",
      " 15  ActualWindProduction    38014 non-null  object\n",
      " 16  SystemLoadEP2           38014 non-null  object\n",
      " 17  SMPEP2                  38014 non-null  object\n",
      "dtypes: int64(7), object(11)\n",
      "memory usage: 5.2+ MB\n"
     ]
    }
   ],
   "source": [
    "df.info()"
   ]
  },
  {
   "cell_type": "code",
   "execution_count": 4,
   "id": "512b5673",
   "metadata": {},
   "outputs": [],
   "source": [
    "df.drop(['DateTime','Holiday'],inplace=True,axis=1) #Drop Datetime and Holiday columns which are not useful"
   ]
  },
  {
   "cell_type": "markdown",
   "id": "032570d5",
   "metadata": {},
   "source": [
    "### ForecastWindProduction should be numeric value, but it's datatype here is object, so let's check what happend."
   ]
  },
  {
   "cell_type": "code",
   "execution_count": 5,
   "id": "e9f82fee",
   "metadata": {},
   "outputs": [],
   "source": [
    "df['ForecastWindProduction']=df['ForecastWindProduction'].astype('str')"
   ]
  },
  {
   "cell_type": "code",
   "execution_count": 6,
   "id": "14051a90",
   "metadata": {},
   "outputs": [
    {
     "data": {
      "text/html": [
       "<div>\n",
       "<style scoped>\n",
       "    .dataframe tbody tr th:only-of-type {\n",
       "        vertical-align: middle;\n",
       "    }\n",
       "\n",
       "    .dataframe tbody tr th {\n",
       "        vertical-align: top;\n",
       "    }\n",
       "\n",
       "    .dataframe thead th {\n",
       "        text-align: right;\n",
       "    }\n",
       "</style>\n",
       "<table border=\"1\" class=\"dataframe\">\n",
       "  <thead>\n",
       "    <tr style=\"text-align: right;\">\n",
       "      <th></th>\n",
       "      <th>HolidayFlag</th>\n",
       "      <th>DayOfWeek</th>\n",
       "      <th>WeekOfYear</th>\n",
       "      <th>Day</th>\n",
       "      <th>Month</th>\n",
       "      <th>Year</th>\n",
       "      <th>PeriodOfDay</th>\n",
       "      <th>ForecastWindProduction</th>\n",
       "      <th>SystemLoadEA</th>\n",
       "      <th>SMPEA</th>\n",
       "      <th>ORKTemperature</th>\n",
       "      <th>ORKWindspeed</th>\n",
       "      <th>CO2Intensity</th>\n",
       "      <th>ActualWindProduction</th>\n",
       "      <th>SystemLoadEP2</th>\n",
       "      <th>SMPEP2</th>\n",
       "    </tr>\n",
       "  </thead>\n",
       "  <tbody>\n",
       "    <tr>\n",
       "      <th>17334</th>\n",
       "      <td>0</td>\n",
       "      <td>5</td>\n",
       "      <td>43</td>\n",
       "      <td>27</td>\n",
       "      <td>10</td>\n",
       "      <td>2012</td>\n",
       "      <td>8</td>\n",
       "      <td>?</td>\n",
       "      <td>2802.34</td>\n",
       "      <td>35.85</td>\n",
       "      <td>1.00</td>\n",
       "      <td>22.20</td>\n",
       "      <td>?</td>\n",
       "      <td>?</td>\n",
       "      <td>2642.11</td>\n",
       "      <td>39.39</td>\n",
       "    </tr>\n",
       "    <tr>\n",
       "      <th>24768</th>\n",
       "      <td>1</td>\n",
       "      <td>6</td>\n",
       "      <td>13</td>\n",
       "      <td>31</td>\n",
       "      <td>3</td>\n",
       "      <td>2013</td>\n",
       "      <td>2</td>\n",
       "      <td>?</td>\n",
       "      <td>?</td>\n",
       "      <td>?</td>\n",
       "      <td>?</td>\n",
       "      <td>?</td>\n",
       "      <td>?</td>\n",
       "      <td>?</td>\n",
       "      <td>?</td>\n",
       "      <td>?</td>\n",
       "    </tr>\n",
       "    <tr>\n",
       "      <th>24769</th>\n",
       "      <td>1</td>\n",
       "      <td>6</td>\n",
       "      <td>13</td>\n",
       "      <td>31</td>\n",
       "      <td>3</td>\n",
       "      <td>2013</td>\n",
       "      <td>3</td>\n",
       "      <td>?</td>\n",
       "      <td>?</td>\n",
       "      <td>?</td>\n",
       "      <td>?</td>\n",
       "      <td>?</td>\n",
       "      <td>?</td>\n",
       "      <td>?</td>\n",
       "      <td>?</td>\n",
       "      <td>?</td>\n",
       "    </tr>\n",
       "    <tr>\n",
       "      <th>24770</th>\n",
       "      <td>1</td>\n",
       "      <td>6</td>\n",
       "      <td>13</td>\n",
       "      <td>31</td>\n",
       "      <td>3</td>\n",
       "      <td>2013</td>\n",
       "      <td>4</td>\n",
       "      <td>?</td>\n",
       "      <td>3314.50</td>\n",
       "      <td>39.74</td>\n",
       "      <td>4.00</td>\n",
       "      <td>22.20</td>\n",
       "      <td>486.19</td>\n",
       "      <td>?</td>\n",
       "      <td>3220.34</td>\n",
       "      <td>63.07</td>\n",
       "    </tr>\n",
       "    <tr>\n",
       "      <th>24771</th>\n",
       "      <td>1</td>\n",
       "      <td>6</td>\n",
       "      <td>13</td>\n",
       "      <td>31</td>\n",
       "      <td>3</td>\n",
       "      <td>2013</td>\n",
       "      <td>5</td>\n",
       "      <td>?</td>\n",
       "      <td>3232.57</td>\n",
       "      <td>39.74</td>\n",
       "      <td>4.00</td>\n",
       "      <td>22.20</td>\n",
       "      <td>493.50</td>\n",
       "      <td>?</td>\n",
       "      <td>3076.47</td>\n",
       "      <td>39.74</td>\n",
       "    </tr>\n",
       "  </tbody>\n",
       "</table>\n",
       "</div>"
      ],
      "text/plain": [
       "       HolidayFlag  DayOfWeek  WeekOfYear  Day  Month  Year  PeriodOfDay  \\\n",
       "17334            0          5          43   27     10  2012            8   \n",
       "24768            1          6          13   31      3  2013            2   \n",
       "24769            1          6          13   31      3  2013            3   \n",
       "24770            1          6          13   31      3  2013            4   \n",
       "24771            1          6          13   31      3  2013            5   \n",
       "\n",
       "      ForecastWindProduction SystemLoadEA  SMPEA ORKTemperature ORKWindspeed  \\\n",
       "17334                      ?      2802.34  35.85           1.00        22.20   \n",
       "24768                      ?            ?      ?              ?            ?   \n",
       "24769                      ?            ?      ?              ?            ?   \n",
       "24770                      ?      3314.50  39.74           4.00        22.20   \n",
       "24771                      ?      3232.57  39.74           4.00        22.20   \n",
       "\n",
       "      CO2Intensity ActualWindProduction SystemLoadEP2 SMPEP2  \n",
       "17334            ?                    ?       2642.11  39.39  \n",
       "24768            ?                    ?             ?      ?  \n",
       "24769            ?                    ?             ?      ?  \n",
       "24770       486.19                    ?       3220.34  63.07  \n",
       "24771       493.50                    ?       3076.47  39.74  "
      ]
     },
     "execution_count": 6,
     "metadata": {},
     "output_type": "execute_result"
    }
   ],
   "source": [
    "df[~df['ForecastWindProduction'].str.contains('[0-9]')]"
   ]
  },
  {
   "cell_type": "markdown",
   "id": "197607ef",
   "metadata": {},
   "source": [
    "### It shows that there are some columns containing \"?\". They should be imputed to the mean value of each column."
   ]
  },
  {
   "cell_type": "code",
   "execution_count": 7,
   "id": "0453957b",
   "metadata": {},
   "outputs": [],
   "source": [
    "def clean(col):\n",
    "    df[col]=df[col].astype('str')\n",
    "    num_values=df[df[col].str.contains('[0-9]')][col]\n",
    "    num_values=num_values.astype('float')\n",
    "    alter=np.mean(num_values)\n",
    "    new_col=df[col].apply(lambda x:alter if x=='?' else x).astype('float')\n",
    "    return new_col\n",
    "\n",
    "cols=list(df.columns)\n",
    "for i in range(7,len(cols)):\n",
    "    df[cols[i]]=clean(cols[i])"
   ]
  },
  {
   "cell_type": "code",
   "execution_count": 8,
   "id": "21dca5b7",
   "metadata": {},
   "outputs": [
    {
     "name": "stdout",
     "output_type": "stream",
     "text": [
      "<class 'pandas.core.frame.DataFrame'>\n",
      "RangeIndex: 38014 entries, 0 to 38013\n",
      "Data columns (total 16 columns):\n",
      " #   Column                  Non-Null Count  Dtype  \n",
      "---  ------                  --------------  -----  \n",
      " 0   HolidayFlag             38014 non-null  int64  \n",
      " 1   DayOfWeek               38014 non-null  int64  \n",
      " 2   WeekOfYear              38014 non-null  int64  \n",
      " 3   Day                     38014 non-null  int64  \n",
      " 4   Month                   38014 non-null  int64  \n",
      " 5   Year                    38014 non-null  int64  \n",
      " 6   PeriodOfDay             38014 non-null  int64  \n",
      " 7   ForecastWindProduction  38014 non-null  float64\n",
      " 8   SystemLoadEA            38014 non-null  float64\n",
      " 9   SMPEA                   38014 non-null  float64\n",
      " 10  ORKTemperature          38014 non-null  float64\n",
      " 11  ORKWindspeed            38014 non-null  float64\n",
      " 12  CO2Intensity            38014 non-null  float64\n",
      " 13  ActualWindProduction    38014 non-null  float64\n",
      " 14  SystemLoadEP2           38014 non-null  float64\n",
      " 15  SMPEP2                  38014 non-null  float64\n",
      "dtypes: float64(9), int64(7)\n",
      "memory usage: 4.6 MB\n"
     ]
    }
   ],
   "source": [
    "df.info()"
   ]
  },
  {
   "cell_type": "markdown",
   "id": "e5d7d883",
   "metadata": {},
   "source": [
    "### After imputation, it shows all features are numeric values without null. The dataset is already cleaned."
   ]
  },
  {
   "cell_type": "markdown",
   "id": "53e21e6a",
   "metadata": {},
   "source": [
    "## Use all the features as X and the prices as y. Split the dataset into training set and test set"
   ]
  },
  {
   "cell_type": "code",
   "execution_count": 9,
   "id": "260d0594",
   "metadata": {},
   "outputs": [],
   "source": [
    "X=df.iloc[:,:-1]\n",
    "y=df.iloc[:,-1]"
   ]
  },
  {
   "cell_type": "code",
   "execution_count": 10,
   "id": "88735a21",
   "metadata": {},
   "outputs": [],
   "source": [
    "from sklearn.model_selection import train_test_split\n",
    "X_train,X_test,y_train,y_test=train_test_split(X,y,test_size=0.3,random_state=0)"
   ]
  },
  {
   "cell_type": "markdown",
   "id": "9f0d722d",
   "metadata": {},
   "source": [
    "### Use Random Forest model to train the data and make prediction"
   ]
  },
  {
   "cell_type": "code",
   "execution_count": 11,
   "id": "5edc6267",
   "metadata": {},
   "outputs": [],
   "source": [
    "from sklearn.ensemble import RandomForestRegressor\n",
    "rf=RandomForestRegressor(n_estimators=100)"
   ]
  },
  {
   "cell_type": "code",
   "execution_count": 12,
   "id": "d5167ab5",
   "metadata": {},
   "outputs": [],
   "source": [
    "rf.fit(X_train,y_train)\n",
    "y_pred=rf.predict(X_test)"
   ]
  },
  {
   "cell_type": "code",
   "execution_count": 13,
   "id": "f71c6d1a",
   "metadata": {},
   "outputs": [
    {
     "data": {
      "text/plain": [
       "0.659989021226291"
      ]
     },
     "execution_count": 13,
     "metadata": {},
     "output_type": "execute_result"
    }
   ],
   "source": [
    "rf.score(X_test,y_test)"
   ]
  },
  {
   "cell_type": "markdown",
   "id": "c581ed89",
   "metadata": {},
   "source": [
    "### Visualize the features importances"
   ]
  },
  {
   "cell_type": "code",
   "execution_count": 14,
   "id": "cd122898",
   "metadata": {},
   "outputs": [
    {
     "data": {
      "text/plain": [
       "<AxesSubplot:>"
      ]
     },
     "execution_count": 14,
     "metadata": {},
     "output_type": "execute_result"
    },
    {
     "data": {
      "image/png": "[encoded data removed]",
      "text/plain": [
       "<Figure size 864x576 with 1 Axes>"
      ]
     },
     "metadata": {
      "needs_background": "light"
     },
     "output_type": "display_data"
    }
   ],
   "source": [
    "importances=pd.Series(data=rf.feature_importances_,index=X_train.columns)\n",
    "importances=importances.sort_values()\n",
    "importances.plot(kind='barh',color='blue')"
   ]
  },
  {
   "cell_type": "code",
   "execution_count": null,
   "id": "d0f7b641",
   "metadata": {},
   "outputs": [],
   "source": []
  }
 ],
 "metadata": {
  "kernelspec": {
   "display_name": "Python 3",
   "language": "python",
   "name": "python3"
  },
  "language_info": {
   "codemirror_mode": {
    "name": "ipython",
    "version": 3
   },
   "file_extension": ".py",
   "mimetype": "text/x-python",
   "name": "python",
   "nbconvert_exporter": "python",
   "pygments_lexer": "ipython3",
   "version": "3.8.8"
  }
 },
 "nbformat": 4,
 "nbformat_minor": 5
}
